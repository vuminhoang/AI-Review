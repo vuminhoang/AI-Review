{
 "cells": [
  {
   "cell_type": "code",
   "execution_count": 1,
   "id": "11e774cf",
   "metadata": {
    "execution": {
     "iopub.execute_input": "2024-11-18T09:21:41.843401Z",
     "iopub.status.busy": "2024-11-18T09:21:41.842501Z",
     "iopub.status.idle": "2024-11-18T09:22:17.134021Z",
     "shell.execute_reply": "2024-11-18T09:22:17.132930Z"
    },
    "papermill": {
     "duration": 35.309466,
     "end_time": "2024-11-18T09:22:17.136503",
     "exception": false,
     "start_time": "2024-11-18T09:21:41.827037",
     "status": "completed"
    },
    "tags": []
   },
   "outputs": [],
   "source": [
    "\n",
    "%%capture\n",
    "!pip install statsmodels\n",
    "!pip install torch\n",
    "!pip install scikit-learn\n"
   ]
  },
  {
   "cell_type": "code",
   "execution_count": 2,
   "id": "6905c9b0",
   "metadata": {
    "execution": {
     "iopub.execute_input": "2024-11-18T09:22:17.166405Z",
     "iopub.status.busy": "2024-11-18T09:22:17.166047Z",
     "iopub.status.idle": "2024-11-18T09:22:19.266241Z",
     "shell.execute_reply": "2024-11-18T09:22:19.265479Z"
    },
    "papermill": {
     "duration": 2.117072,
     "end_time": "2024-11-18T09:22:19.268605",
     "exception": false,
     "start_time": "2024-11-18T09:22:17.151533",
     "status": "completed"
    },
    "tags": []
   },
   "outputs": [],
   "source": [
    "import pandas as pd\n",
    "import numpy as np\n",
    "import matplotlib.pyplot as plt\n",
    "from statsmodels.tsa.seasonal import seasonal_decompose\n",
    "from sklearn.preprocessing import MinMaxScaler\n",
    "from sklearn.metrics import mean_squared_error"
   ]
  },
  {
   "cell_type": "code",
   "execution_count": 3,
   "id": "1f086b2b",
   "metadata": {
    "execution": {
     "iopub.execute_input": "2024-11-18T09:22:19.296468Z",
     "iopub.status.busy": "2024-11-18T09:22:19.296054Z",
     "iopub.status.idle": "2024-11-18T09:22:22.759250Z",
     "shell.execute_reply": "2024-11-18T09:22:22.758255Z"
    },
    "papermill": {
     "duration": 3.479782,
     "end_time": "2024-11-18T09:22:22.761727",
     "exception": false,
     "start_time": "2024-11-18T09:22:19.281945",
     "status": "completed"
    },
    "tags": []
   },
   "outputs": [],
   "source": [
    "import torch\n",
    "from torch.utils.data import Dataset, DataLoader"
   ]
  },
  {
   "cell_type": "markdown",
   "id": "3b3de910",
   "metadata": {
    "papermill": {
     "duration": 0.01315,
     "end_time": "2024-11-18T09:22:22.788062",
     "exception": false,
     "start_time": "2024-11-18T09:22:22.774912",
     "status": "completed"
    },
    "tags": []
   },
   "source": [
    "### Import Data"
   ]
  },
  {
   "cell_type": "code",
   "execution_count": 4,
   "id": "7a3d89b1",
   "metadata": {
    "execution": {
     "iopub.execute_input": "2024-11-18T09:22:22.815875Z",
     "iopub.status.busy": "2024-11-18T09:22:22.815395Z",
     "iopub.status.idle": "2024-11-18T09:22:22.863185Z",
     "shell.execute_reply": "2024-11-18T09:22:22.862288Z"
    },
    "papermill": {
     "duration": 0.063988,
     "end_time": "2024-11-18T09:22:22.865431",
     "exception": false,
     "start_time": "2024-11-18T09:22:22.801443",
     "status": "completed"
    },
    "tags": []
   },
   "outputs": [
    {
     "data": {
      "text/html": [
       "<div>\n",
       "<style scoped>\n",
       "    .dataframe tbody tr th:only-of-type {\n",
       "        vertical-align: middle;\n",
       "    }\n",
       "\n",
       "    .dataframe tbody tr th {\n",
       "        vertical-align: top;\n",
       "    }\n",
       "\n",
       "    .dataframe thead th {\n",
       "        text-align: right;\n",
       "    }\n",
       "</style>\n",
       "<table border=\"1\" class=\"dataframe\">\n",
       "  <thead>\n",
       "    <tr style=\"text-align: right;\">\n",
       "      <th></th>\n",
       "      <th>Date</th>\n",
       "      <th>Open</th>\n",
       "      <th>High</th>\n",
       "      <th>Low</th>\n",
       "      <th>Close</th>\n",
       "      <th>Volume</th>\n",
       "      <th>Dividends</th>\n",
       "      <th>Stock Splits</th>\n",
       "      <th>Capital Gains</th>\n",
       "    </tr>\n",
       "  </thead>\n",
       "  <tbody>\n",
       "    <tr>\n",
       "      <th>0</th>\n",
       "      <td>2019-11-11 00:00:00-05:00</td>\n",
       "      <td>137.610001</td>\n",
       "      <td>137.789993</td>\n",
       "      <td>136.440002</td>\n",
       "      <td>137.059998</td>\n",
       "      <td>7037300</td>\n",
       "      <td>0.0</td>\n",
       "      <td>0.0</td>\n",
       "      <td>0.0</td>\n",
       "    </tr>\n",
       "    <tr>\n",
       "      <th>1</th>\n",
       "      <td>2019-11-12 00:00:00-05:00</td>\n",
       "      <td>137.029999</td>\n",
       "      <td>137.589996</td>\n",
       "      <td>136.190002</td>\n",
       "      <td>137.429993</td>\n",
       "      <td>6448600</td>\n",
       "      <td>0.0</td>\n",
       "      <td>0.0</td>\n",
       "      <td>0.0</td>\n",
       "    </tr>\n",
       "    <tr>\n",
       "      <th>2</th>\n",
       "      <td>2019-11-13 00:00:00-05:00</td>\n",
       "      <td>137.800003</td>\n",
       "      <td>138.220001</td>\n",
       "      <td>137.639999</td>\n",
       "      <td>137.979996</td>\n",
       "      <td>8776000</td>\n",
       "      <td>0.0</td>\n",
       "      <td>0.0</td>\n",
       "      <td>0.0</td>\n",
       "    </tr>\n",
       "    <tr>\n",
       "      <th>3</th>\n",
       "      <td>2019-11-14 00:00:00-05:00</td>\n",
       "      <td>138.389999</td>\n",
       "      <td>138.940002</td>\n",
       "      <td>137.869995</td>\n",
       "      <td>138.559998</td>\n",
       "      <td>5220500</td>\n",
       "      <td>0.0</td>\n",
       "      <td>0.0</td>\n",
       "      <td>0.0</td>\n",
       "    </tr>\n",
       "    <tr>\n",
       "      <th>4</th>\n",
       "      <td>2019-11-15 00:00:00-05:00</td>\n",
       "      <td>138.029999</td>\n",
       "      <td>138.419998</td>\n",
       "      <td>137.970001</td>\n",
       "      <td>138.210007</td>\n",
       "      <td>10106700</td>\n",
       "      <td>0.0</td>\n",
       "      <td>0.0</td>\n",
       "      <td>0.0</td>\n",
       "    </tr>\n",
       "    <tr>\n",
       "      <th>...</th>\n",
       "      <td>...</td>\n",
       "      <td>...</td>\n",
       "      <td>...</td>\n",
       "      <td>...</td>\n",
       "      <td>...</td>\n",
       "      <td>...</td>\n",
       "      <td>...</td>\n",
       "      <td>...</td>\n",
       "      <td>...</td>\n",
       "    </tr>\n",
       "    <tr>\n",
       "      <th>1253</th>\n",
       "      <td>2024-11-04 00:00:00-05:00</td>\n",
       "      <td>253.320007</td>\n",
       "      <td>253.580002</td>\n",
       "      <td>252.270004</td>\n",
       "      <td>252.830002</td>\n",
       "      <td>4581400</td>\n",
       "      <td>0.0</td>\n",
       "      <td>0.0</td>\n",
       "      <td>0.0</td>\n",
       "    </tr>\n",
       "    <tr>\n",
       "      <th>1254</th>\n",
       "      <td>2024-11-05 00:00:00-05:00</td>\n",
       "      <td>253.779999</td>\n",
       "      <td>253.990005</td>\n",
       "      <td>252.410004</td>\n",
       "      <td>253.399994</td>\n",
       "      <td>6029900</td>\n",
       "      <td>0.0</td>\n",
       "      <td>0.0</td>\n",
       "      <td>0.0</td>\n",
       "    </tr>\n",
       "    <tr>\n",
       "      <th>1255</th>\n",
       "      <td>2024-11-06 00:00:00-05:00</td>\n",
       "      <td>245.639999</td>\n",
       "      <td>247.350006</td>\n",
       "      <td>244.949997</td>\n",
       "      <td>245.699997</td>\n",
       "      <td>14600200</td>\n",
       "      <td>0.0</td>\n",
       "      <td>0.0</td>\n",
       "      <td>0.0</td>\n",
       "    </tr>\n",
       "    <tr>\n",
       "      <th>1256</th>\n",
       "      <td>2024-11-07 00:00:00-05:00</td>\n",
       "      <td>248.289993</td>\n",
       "      <td>250.240005</td>\n",
       "      <td>248.119995</td>\n",
       "      <td>249.649994</td>\n",
       "      <td>8821400</td>\n",
       "      <td>0.0</td>\n",
       "      <td>0.0</td>\n",
       "      <td>0.0</td>\n",
       "    </tr>\n",
       "    <tr>\n",
       "      <th>1257</th>\n",
       "      <td>2024-11-08 00:00:00-05:00</td>\n",
       "      <td>249.070007</td>\n",
       "      <td>249.350006</td>\n",
       "      <td>247.779999</td>\n",
       "      <td>247.960007</td>\n",
       "      <td>6166900</td>\n",
       "      <td>0.0</td>\n",
       "      <td>0.0</td>\n",
       "      <td>0.0</td>\n",
       "    </tr>\n",
       "  </tbody>\n",
       "</table>\n",
       "<p>1258 rows × 9 columns</p>\n",
       "</div>"
      ],
      "text/plain": [
       "                           Date        Open        High         Low  \\\n",
       "0     2019-11-11 00:00:00-05:00  137.610001  137.789993  136.440002   \n",
       "1     2019-11-12 00:00:00-05:00  137.029999  137.589996  136.190002   \n",
       "2     2019-11-13 00:00:00-05:00  137.800003  138.220001  137.639999   \n",
       "3     2019-11-14 00:00:00-05:00  138.389999  138.940002  137.869995   \n",
       "4     2019-11-15 00:00:00-05:00  138.029999  138.419998  137.970001   \n",
       "...                         ...         ...         ...         ...   \n",
       "1253  2024-11-04 00:00:00-05:00  253.320007  253.580002  252.270004   \n",
       "1254  2024-11-05 00:00:00-05:00  253.779999  253.990005  252.410004   \n",
       "1255  2024-11-06 00:00:00-05:00  245.639999  247.350006  244.949997   \n",
       "1256  2024-11-07 00:00:00-05:00  248.289993  250.240005  248.119995   \n",
       "1257  2024-11-08 00:00:00-05:00  249.070007  249.350006  247.779999   \n",
       "\n",
       "           Close    Volume  Dividends  Stock Splits  Capital Gains  \n",
       "0     137.059998   7037300        0.0           0.0            0.0  \n",
       "1     137.429993   6448600        0.0           0.0            0.0  \n",
       "2     137.979996   8776000        0.0           0.0            0.0  \n",
       "3     138.559998   5220500        0.0           0.0            0.0  \n",
       "4     138.210007  10106700        0.0           0.0            0.0  \n",
       "...          ...       ...        ...           ...            ...  \n",
       "1253  252.830002   4581400        0.0           0.0            0.0  \n",
       "1254  253.399994   6029900        0.0           0.0            0.0  \n",
       "1255  245.699997  14600200        0.0           0.0            0.0  \n",
       "1256  249.649994   8821400        0.0           0.0            0.0  \n",
       "1257  247.960007   6166900        0.0           0.0            0.0  \n",
       "\n",
       "[1258 rows x 9 columns]"
      ]
     },
     "execution_count": 4,
     "metadata": {},
     "output_type": "execute_result"
    }
   ],
   "source": [
    "df = pd.read_csv('/kaggle/input/gold-prices-for-5-years-financial-predictions/Gold  Prices.csv')\n",
    "df"
   ]
  },
  {
   "cell_type": "code",
   "execution_count": 5,
   "id": "ca040ba5",
   "metadata": {
    "execution": {
     "iopub.execute_input": "2024-11-18T09:22:22.894221Z",
     "iopub.status.busy": "2024-11-18T09:22:22.893888Z",
     "iopub.status.idle": "2024-11-18T09:22:22.927612Z",
     "shell.execute_reply": "2024-11-18T09:22:22.926885Z"
    },
    "papermill": {
     "duration": 0.050247,
     "end_time": "2024-11-18T09:22:22.929727",
     "exception": false,
     "start_time": "2024-11-18T09:22:22.879480",
     "status": "completed"
    },
    "tags": []
   },
   "outputs": [],
   "source": [
    "import pandas as pd\n",
    "\n",
    "\n",
    "df['Date'] = pd.to_datetime(df['Date'], errors='coerce', utc=True)\n",
    "df['Date'] = df['Date'].dt.tz_convert(None).dt.normalize()"
   ]
  },
  {
   "cell_type": "code",
   "execution_count": 6,
   "id": "5405aed9",
   "metadata": {
    "execution": {
     "iopub.execute_input": "2024-11-18T09:22:22.958049Z",
     "iopub.status.busy": "2024-11-18T09:22:22.957725Z",
     "iopub.status.idle": "2024-11-18T09:22:22.976836Z",
     "shell.execute_reply": "2024-11-18T09:22:22.975918Z"
    },
    "papermill": {
     "duration": 0.035646,
     "end_time": "2024-11-18T09:22:22.979113",
     "exception": false,
     "start_time": "2024-11-18T09:22:22.943467",
     "status": "completed"
    },
    "tags": []
   },
   "outputs": [
    {
     "data": {
      "text/html": [
       "<div>\n",
       "<style scoped>\n",
       "    .dataframe tbody tr th:only-of-type {\n",
       "        vertical-align: middle;\n",
       "    }\n",
       "\n",
       "    .dataframe tbody tr th {\n",
       "        vertical-align: top;\n",
       "    }\n",
       "\n",
       "    .dataframe thead th {\n",
       "        text-align: right;\n",
       "    }\n",
       "</style>\n",
       "<table border=\"1\" class=\"dataframe\">\n",
       "  <thead>\n",
       "    <tr style=\"text-align: right;\">\n",
       "      <th></th>\n",
       "      <th>Date</th>\n",
       "      <th>Open</th>\n",
       "      <th>High</th>\n",
       "      <th>Low</th>\n",
       "      <th>Close</th>\n",
       "      <th>Volume</th>\n",
       "      <th>Dividends</th>\n",
       "      <th>Stock Splits</th>\n",
       "      <th>Capital Gains</th>\n",
       "    </tr>\n",
       "  </thead>\n",
       "  <tbody>\n",
       "    <tr>\n",
       "      <th>0</th>\n",
       "      <td>2019-11-11</td>\n",
       "      <td>137.610001</td>\n",
       "      <td>137.789993</td>\n",
       "      <td>136.440002</td>\n",
       "      <td>137.059998</td>\n",
       "      <td>7037300</td>\n",
       "      <td>0.0</td>\n",
       "      <td>0.0</td>\n",
       "      <td>0.0</td>\n",
       "    </tr>\n",
       "    <tr>\n",
       "      <th>1</th>\n",
       "      <td>2019-11-12</td>\n",
       "      <td>137.029999</td>\n",
       "      <td>137.589996</td>\n",
       "      <td>136.190002</td>\n",
       "      <td>137.429993</td>\n",
       "      <td>6448600</td>\n",
       "      <td>0.0</td>\n",
       "      <td>0.0</td>\n",
       "      <td>0.0</td>\n",
       "    </tr>\n",
       "    <tr>\n",
       "      <th>2</th>\n",
       "      <td>2019-11-13</td>\n",
       "      <td>137.800003</td>\n",
       "      <td>138.220001</td>\n",
       "      <td>137.639999</td>\n",
       "      <td>137.979996</td>\n",
       "      <td>8776000</td>\n",
       "      <td>0.0</td>\n",
       "      <td>0.0</td>\n",
       "      <td>0.0</td>\n",
       "    </tr>\n",
       "    <tr>\n",
       "      <th>3</th>\n",
       "      <td>2019-11-14</td>\n",
       "      <td>138.389999</td>\n",
       "      <td>138.940002</td>\n",
       "      <td>137.869995</td>\n",
       "      <td>138.559998</td>\n",
       "      <td>5220500</td>\n",
       "      <td>0.0</td>\n",
       "      <td>0.0</td>\n",
       "      <td>0.0</td>\n",
       "    </tr>\n",
       "    <tr>\n",
       "      <th>4</th>\n",
       "      <td>2019-11-15</td>\n",
       "      <td>138.029999</td>\n",
       "      <td>138.419998</td>\n",
       "      <td>137.970001</td>\n",
       "      <td>138.210007</td>\n",
       "      <td>10106700</td>\n",
       "      <td>0.0</td>\n",
       "      <td>0.0</td>\n",
       "      <td>0.0</td>\n",
       "    </tr>\n",
       "    <tr>\n",
       "      <th>...</th>\n",
       "      <td>...</td>\n",
       "      <td>...</td>\n",
       "      <td>...</td>\n",
       "      <td>...</td>\n",
       "      <td>...</td>\n",
       "      <td>...</td>\n",
       "      <td>...</td>\n",
       "      <td>...</td>\n",
       "      <td>...</td>\n",
       "    </tr>\n",
       "    <tr>\n",
       "      <th>1253</th>\n",
       "      <td>2024-11-04</td>\n",
       "      <td>253.320007</td>\n",
       "      <td>253.580002</td>\n",
       "      <td>252.270004</td>\n",
       "      <td>252.830002</td>\n",
       "      <td>4581400</td>\n",
       "      <td>0.0</td>\n",
       "      <td>0.0</td>\n",
       "      <td>0.0</td>\n",
       "    </tr>\n",
       "    <tr>\n",
       "      <th>1254</th>\n",
       "      <td>2024-11-05</td>\n",
       "      <td>253.779999</td>\n",
       "      <td>253.990005</td>\n",
       "      <td>252.410004</td>\n",
       "      <td>253.399994</td>\n",
       "      <td>6029900</td>\n",
       "      <td>0.0</td>\n",
       "      <td>0.0</td>\n",
       "      <td>0.0</td>\n",
       "    </tr>\n",
       "    <tr>\n",
       "      <th>1255</th>\n",
       "      <td>2024-11-06</td>\n",
       "      <td>245.639999</td>\n",
       "      <td>247.350006</td>\n",
       "      <td>244.949997</td>\n",
       "      <td>245.699997</td>\n",
       "      <td>14600200</td>\n",
       "      <td>0.0</td>\n",
       "      <td>0.0</td>\n",
       "      <td>0.0</td>\n",
       "    </tr>\n",
       "    <tr>\n",
       "      <th>1256</th>\n",
       "      <td>2024-11-07</td>\n",
       "      <td>248.289993</td>\n",
       "      <td>250.240005</td>\n",
       "      <td>248.119995</td>\n",
       "      <td>249.649994</td>\n",
       "      <td>8821400</td>\n",
       "      <td>0.0</td>\n",
       "      <td>0.0</td>\n",
       "      <td>0.0</td>\n",
       "    </tr>\n",
       "    <tr>\n",
       "      <th>1257</th>\n",
       "      <td>2024-11-08</td>\n",
       "      <td>249.070007</td>\n",
       "      <td>249.350006</td>\n",
       "      <td>247.779999</td>\n",
       "      <td>247.960007</td>\n",
       "      <td>6166900</td>\n",
       "      <td>0.0</td>\n",
       "      <td>0.0</td>\n",
       "      <td>0.0</td>\n",
       "    </tr>\n",
       "  </tbody>\n",
       "</table>\n",
       "<p>1258 rows × 9 columns</p>\n",
       "</div>"
      ],
      "text/plain": [
       "           Date        Open        High         Low       Close    Volume  \\\n",
       "0    2019-11-11  137.610001  137.789993  136.440002  137.059998   7037300   \n",
       "1    2019-11-12  137.029999  137.589996  136.190002  137.429993   6448600   \n",
       "2    2019-11-13  137.800003  138.220001  137.639999  137.979996   8776000   \n",
       "3    2019-11-14  138.389999  138.940002  137.869995  138.559998   5220500   \n",
       "4    2019-11-15  138.029999  138.419998  137.970001  138.210007  10106700   \n",
       "...         ...         ...         ...         ...         ...       ...   \n",
       "1253 2024-11-04  253.320007  253.580002  252.270004  252.830002   4581400   \n",
       "1254 2024-11-05  253.779999  253.990005  252.410004  253.399994   6029900   \n",
       "1255 2024-11-06  245.639999  247.350006  244.949997  245.699997  14600200   \n",
       "1256 2024-11-07  248.289993  250.240005  248.119995  249.649994   8821400   \n",
       "1257 2024-11-08  249.070007  249.350006  247.779999  247.960007   6166900   \n",
       "\n",
       "      Dividends  Stock Splits  Capital Gains  \n",
       "0           0.0           0.0            0.0  \n",
       "1           0.0           0.0            0.0  \n",
       "2           0.0           0.0            0.0  \n",
       "3           0.0           0.0            0.0  \n",
       "4           0.0           0.0            0.0  \n",
       "...         ...           ...            ...  \n",
       "1253        0.0           0.0            0.0  \n",
       "1254        0.0           0.0            0.0  \n",
       "1255        0.0           0.0            0.0  \n",
       "1256        0.0           0.0            0.0  \n",
       "1257        0.0           0.0            0.0  \n",
       "\n",
       "[1258 rows x 9 columns]"
      ]
     },
     "execution_count": 6,
     "metadata": {},
     "output_type": "execute_result"
    }
   ],
   "source": [
    "df"
   ]
  },
  {
   "cell_type": "markdown",
   "id": "feb77576",
   "metadata": {
    "papermill": {
     "duration": 0.013802,
     "end_time": "2024-11-18T09:22:23.006579",
     "exception": false,
     "start_time": "2024-11-18T09:22:22.992777",
     "status": "completed"
    },
    "tags": []
   },
   "source": [
    "### Drop the last 3 columns"
   ]
  },
  {
   "cell_type": "code",
   "execution_count": 7,
   "id": "0cd8c187",
   "metadata": {
    "execution": {
     "iopub.execute_input": "2024-11-18T09:22:23.034926Z",
     "iopub.status.busy": "2024-11-18T09:22:23.034565Z",
     "iopub.status.idle": "2024-11-18T09:22:23.049866Z",
     "shell.execute_reply": "2024-11-18T09:22:23.049014Z"
    },
    "papermill": {
     "duration": 0.03194,
     "end_time": "2024-11-18T09:22:23.052005",
     "exception": false,
     "start_time": "2024-11-18T09:22:23.020065",
     "status": "completed"
    },
    "tags": []
   },
   "outputs": [
    {
     "data": {
      "text/html": [
       "<div>\n",
       "<style scoped>\n",
       "    .dataframe tbody tr th:only-of-type {\n",
       "        vertical-align: middle;\n",
       "    }\n",
       "\n",
       "    .dataframe tbody tr th {\n",
       "        vertical-align: top;\n",
       "    }\n",
       "\n",
       "    .dataframe thead th {\n",
       "        text-align: right;\n",
       "    }\n",
       "</style>\n",
       "<table border=\"1\" class=\"dataframe\">\n",
       "  <thead>\n",
       "    <tr style=\"text-align: right;\">\n",
       "      <th></th>\n",
       "      <th>Date</th>\n",
       "      <th>Open</th>\n",
       "      <th>High</th>\n",
       "      <th>Low</th>\n",
       "      <th>Close</th>\n",
       "      <th>Volume</th>\n",
       "    </tr>\n",
       "  </thead>\n",
       "  <tbody>\n",
       "    <tr>\n",
       "      <th>0</th>\n",
       "      <td>2019-11-11</td>\n",
       "      <td>137.610001</td>\n",
       "      <td>137.789993</td>\n",
       "      <td>136.440002</td>\n",
       "      <td>137.059998</td>\n",
       "      <td>7037300</td>\n",
       "    </tr>\n",
       "    <tr>\n",
       "      <th>1</th>\n",
       "      <td>2019-11-12</td>\n",
       "      <td>137.029999</td>\n",
       "      <td>137.589996</td>\n",
       "      <td>136.190002</td>\n",
       "      <td>137.429993</td>\n",
       "      <td>6448600</td>\n",
       "    </tr>\n",
       "    <tr>\n",
       "      <th>2</th>\n",
       "      <td>2019-11-13</td>\n",
       "      <td>137.800003</td>\n",
       "      <td>138.220001</td>\n",
       "      <td>137.639999</td>\n",
       "      <td>137.979996</td>\n",
       "      <td>8776000</td>\n",
       "    </tr>\n",
       "    <tr>\n",
       "      <th>3</th>\n",
       "      <td>2019-11-14</td>\n",
       "      <td>138.389999</td>\n",
       "      <td>138.940002</td>\n",
       "      <td>137.869995</td>\n",
       "      <td>138.559998</td>\n",
       "      <td>5220500</td>\n",
       "    </tr>\n",
       "    <tr>\n",
       "      <th>4</th>\n",
       "      <td>2019-11-15</td>\n",
       "      <td>138.029999</td>\n",
       "      <td>138.419998</td>\n",
       "      <td>137.970001</td>\n",
       "      <td>138.210007</td>\n",
       "      <td>10106700</td>\n",
       "    </tr>\n",
       "    <tr>\n",
       "      <th>...</th>\n",
       "      <td>...</td>\n",
       "      <td>...</td>\n",
       "      <td>...</td>\n",
       "      <td>...</td>\n",
       "      <td>...</td>\n",
       "      <td>...</td>\n",
       "    </tr>\n",
       "    <tr>\n",
       "      <th>1253</th>\n",
       "      <td>2024-11-04</td>\n",
       "      <td>253.320007</td>\n",
       "      <td>253.580002</td>\n",
       "      <td>252.270004</td>\n",
       "      <td>252.830002</td>\n",
       "      <td>4581400</td>\n",
       "    </tr>\n",
       "    <tr>\n",
       "      <th>1254</th>\n",
       "      <td>2024-11-05</td>\n",
       "      <td>253.779999</td>\n",
       "      <td>253.990005</td>\n",
       "      <td>252.410004</td>\n",
       "      <td>253.399994</td>\n",
       "      <td>6029900</td>\n",
       "    </tr>\n",
       "    <tr>\n",
       "      <th>1255</th>\n",
       "      <td>2024-11-06</td>\n",
       "      <td>245.639999</td>\n",
       "      <td>247.350006</td>\n",
       "      <td>244.949997</td>\n",
       "      <td>245.699997</td>\n",
       "      <td>14600200</td>\n",
       "    </tr>\n",
       "    <tr>\n",
       "      <th>1256</th>\n",
       "      <td>2024-11-07</td>\n",
       "      <td>248.289993</td>\n",
       "      <td>250.240005</td>\n",
       "      <td>248.119995</td>\n",
       "      <td>249.649994</td>\n",
       "      <td>8821400</td>\n",
       "    </tr>\n",
       "    <tr>\n",
       "      <th>1257</th>\n",
       "      <td>2024-11-08</td>\n",
       "      <td>249.070007</td>\n",
       "      <td>249.350006</td>\n",
       "      <td>247.779999</td>\n",
       "      <td>247.960007</td>\n",
       "      <td>6166900</td>\n",
       "    </tr>\n",
       "  </tbody>\n",
       "</table>\n",
       "<p>1258 rows × 6 columns</p>\n",
       "</div>"
      ],
      "text/plain": [
       "           Date        Open        High         Low       Close    Volume\n",
       "0    2019-11-11  137.610001  137.789993  136.440002  137.059998   7037300\n",
       "1    2019-11-12  137.029999  137.589996  136.190002  137.429993   6448600\n",
       "2    2019-11-13  137.800003  138.220001  137.639999  137.979996   8776000\n",
       "3    2019-11-14  138.389999  138.940002  137.869995  138.559998   5220500\n",
       "4    2019-11-15  138.029999  138.419998  137.970001  138.210007  10106700\n",
       "...         ...         ...         ...         ...         ...       ...\n",
       "1253 2024-11-04  253.320007  253.580002  252.270004  252.830002   4581400\n",
       "1254 2024-11-05  253.779999  253.990005  252.410004  253.399994   6029900\n",
       "1255 2024-11-06  245.639999  247.350006  244.949997  245.699997  14600200\n",
       "1256 2024-11-07  248.289993  250.240005  248.119995  249.649994   8821400\n",
       "1257 2024-11-08  249.070007  249.350006  247.779999  247.960007   6166900\n",
       "\n",
       "[1258 rows x 6 columns]"
      ]
     },
     "execution_count": 7,
     "metadata": {},
     "output_type": "execute_result"
    }
   ],
   "source": [
    "df = df[['Date','Open', 'High', 'Low', 'Close', 'Volume']]\n",
    "df"
   ]
  },
  {
   "cell_type": "markdown",
   "id": "ee28de09",
   "metadata": {
    "papermill": {
     "duration": 0.013649,
     "end_time": "2024-11-18T09:22:23.080863",
     "exception": false,
     "start_time": "2024-11-18T09:22:23.067214",
     "status": "completed"
    },
    "tags": []
   },
   "source": [
    "### Check null, duplicate"
   ]
  },
  {
   "cell_type": "code",
   "execution_count": 8,
   "id": "86786b36",
   "metadata": {
    "execution": {
     "iopub.execute_input": "2024-11-18T09:22:23.111151Z",
     "iopub.status.busy": "2024-11-18T09:22:23.110349Z",
     "iopub.status.idle": "2024-11-18T09:22:23.117244Z",
     "shell.execute_reply": "2024-11-18T09:22:23.116335Z"
    },
    "papermill": {
     "duration": 0.023342,
     "end_time": "2024-11-18T09:22:23.119201",
     "exception": false,
     "start_time": "2024-11-18T09:22:23.095859",
     "status": "completed"
    },
    "tags": []
   },
   "outputs": [
    {
     "name": "stdout",
     "output_type": "stream",
     "text": [
      "Date      0\n",
      "Open      0\n",
      "High      0\n",
      "Low       0\n",
      "Close     0\n",
      "Volume    0\n",
      "dtype: int64\n"
     ]
    }
   ],
   "source": [
    "# check null\n",
    "null_counts = df.isnull().sum()\n",
    "print(null_counts)"
   ]
  },
  {
   "cell_type": "code",
   "execution_count": 9,
   "id": "f673e4b3",
   "metadata": {
    "execution": {
     "iopub.execute_input": "2024-11-18T09:22:23.147897Z",
     "iopub.status.busy": "2024-11-18T09:22:23.147633Z",
     "iopub.status.idle": "2024-11-18T09:22:23.155220Z",
     "shell.execute_reply": "2024-11-18T09:22:23.154384Z"
    },
    "papermill": {
     "duration": 0.024105,
     "end_time": "2024-11-18T09:22:23.157107",
     "exception": false,
     "start_time": "2024-11-18T09:22:23.133002",
     "status": "completed"
    },
    "tags": []
   },
   "outputs": [
    {
     "data": {
      "text/plain": [
       "0"
      ]
     },
     "execution_count": 9,
     "metadata": {},
     "output_type": "execute_result"
    }
   ],
   "source": [
    "# check if duplicate\n",
    "df.duplicated().sum()"
   ]
  },
  {
   "cell_type": "code",
   "execution_count": 10,
   "id": "7885817e",
   "metadata": {
    "execution": {
     "iopub.execute_input": "2024-11-18T09:22:23.186178Z",
     "iopub.status.busy": "2024-11-18T09:22:23.185898Z",
     "iopub.status.idle": "2024-11-18T09:22:23.198819Z",
     "shell.execute_reply": "2024-11-18T09:22:23.197927Z"
    },
    "papermill": {
     "duration": 0.029477,
     "end_time": "2024-11-18T09:22:23.200676",
     "exception": false,
     "start_time": "2024-11-18T09:22:23.171199",
     "status": "completed"
    },
    "tags": []
   },
   "outputs": [
    {
     "data": {
      "text/html": [
       "<div>\n",
       "<style scoped>\n",
       "    .dataframe tbody tr th:only-of-type {\n",
       "        vertical-align: middle;\n",
       "    }\n",
       "\n",
       "    .dataframe tbody tr th {\n",
       "        vertical-align: top;\n",
       "    }\n",
       "\n",
       "    .dataframe thead th {\n",
       "        text-align: right;\n",
       "    }\n",
       "</style>\n",
       "<table border=\"1\" class=\"dataframe\">\n",
       "  <thead>\n",
       "    <tr style=\"text-align: right;\">\n",
       "      <th></th>\n",
       "      <th>Date</th>\n",
       "      <th>Open</th>\n",
       "      <th>High</th>\n",
       "      <th>Low</th>\n",
       "      <th>Close</th>\n",
       "      <th>Volume</th>\n",
       "    </tr>\n",
       "  </thead>\n",
       "  <tbody>\n",
       "    <tr>\n",
       "      <th>0</th>\n",
       "      <td>2019-11-11</td>\n",
       "      <td>137.610001</td>\n",
       "      <td>137.789993</td>\n",
       "      <td>136.440002</td>\n",
       "      <td>137.059998</td>\n",
       "      <td>7037300</td>\n",
       "    </tr>\n",
       "    <tr>\n",
       "      <th>1</th>\n",
       "      <td>2019-11-12</td>\n",
       "      <td>137.029999</td>\n",
       "      <td>137.589996</td>\n",
       "      <td>136.190002</td>\n",
       "      <td>137.429993</td>\n",
       "      <td>6448600</td>\n",
       "    </tr>\n",
       "    <tr>\n",
       "      <th>2</th>\n",
       "      <td>2019-11-13</td>\n",
       "      <td>137.800003</td>\n",
       "      <td>138.220001</td>\n",
       "      <td>137.639999</td>\n",
       "      <td>137.979996</td>\n",
       "      <td>8776000</td>\n",
       "    </tr>\n",
       "    <tr>\n",
       "      <th>3</th>\n",
       "      <td>2019-11-14</td>\n",
       "      <td>138.389999</td>\n",
       "      <td>138.940002</td>\n",
       "      <td>137.869995</td>\n",
       "      <td>138.559998</td>\n",
       "      <td>5220500</td>\n",
       "    </tr>\n",
       "    <tr>\n",
       "      <th>4</th>\n",
       "      <td>2019-11-15</td>\n",
       "      <td>138.029999</td>\n",
       "      <td>138.419998</td>\n",
       "      <td>137.970001</td>\n",
       "      <td>138.210007</td>\n",
       "      <td>10106700</td>\n",
       "    </tr>\n",
       "    <tr>\n",
       "      <th>...</th>\n",
       "      <td>...</td>\n",
       "      <td>...</td>\n",
       "      <td>...</td>\n",
       "      <td>...</td>\n",
       "      <td>...</td>\n",
       "      <td>...</td>\n",
       "    </tr>\n",
       "    <tr>\n",
       "      <th>1253</th>\n",
       "      <td>2024-11-04</td>\n",
       "      <td>253.320007</td>\n",
       "      <td>253.580002</td>\n",
       "      <td>252.270004</td>\n",
       "      <td>252.830002</td>\n",
       "      <td>4581400</td>\n",
       "    </tr>\n",
       "    <tr>\n",
       "      <th>1254</th>\n",
       "      <td>2024-11-05</td>\n",
       "      <td>253.779999</td>\n",
       "      <td>253.990005</td>\n",
       "      <td>252.410004</td>\n",
       "      <td>253.399994</td>\n",
       "      <td>6029900</td>\n",
       "    </tr>\n",
       "    <tr>\n",
       "      <th>1255</th>\n",
       "      <td>2024-11-06</td>\n",
       "      <td>245.639999</td>\n",
       "      <td>247.350006</td>\n",
       "      <td>244.949997</td>\n",
       "      <td>245.699997</td>\n",
       "      <td>14600200</td>\n",
       "    </tr>\n",
       "    <tr>\n",
       "      <th>1256</th>\n",
       "      <td>2024-11-07</td>\n",
       "      <td>248.289993</td>\n",
       "      <td>250.240005</td>\n",
       "      <td>248.119995</td>\n",
       "      <td>249.649994</td>\n",
       "      <td>8821400</td>\n",
       "    </tr>\n",
       "    <tr>\n",
       "      <th>1257</th>\n",
       "      <td>2024-11-08</td>\n",
       "      <td>249.070007</td>\n",
       "      <td>249.350006</td>\n",
       "      <td>247.779999</td>\n",
       "      <td>247.960007</td>\n",
       "      <td>6166900</td>\n",
       "    </tr>\n",
       "  </tbody>\n",
       "</table>\n",
       "<p>1258 rows × 6 columns</p>\n",
       "</div>"
      ],
      "text/plain": [
       "           Date        Open        High         Low       Close    Volume\n",
       "0    2019-11-11  137.610001  137.789993  136.440002  137.059998   7037300\n",
       "1    2019-11-12  137.029999  137.589996  136.190002  137.429993   6448600\n",
       "2    2019-11-13  137.800003  138.220001  137.639999  137.979996   8776000\n",
       "3    2019-11-14  138.389999  138.940002  137.869995  138.559998   5220500\n",
       "4    2019-11-15  138.029999  138.419998  137.970001  138.210007  10106700\n",
       "...         ...         ...         ...         ...         ...       ...\n",
       "1253 2024-11-04  253.320007  253.580002  252.270004  252.830002   4581400\n",
       "1254 2024-11-05  253.779999  253.990005  252.410004  253.399994   6029900\n",
       "1255 2024-11-06  245.639999  247.350006  244.949997  245.699997  14600200\n",
       "1256 2024-11-07  248.289993  250.240005  248.119995  249.649994   8821400\n",
       "1257 2024-11-08  249.070007  249.350006  247.779999  247.960007   6166900\n",
       "\n",
       "[1258 rows x 6 columns]"
      ]
     },
     "execution_count": 10,
     "metadata": {},
     "output_type": "execute_result"
    }
   ],
   "source": [
    "df\n"
   ]
  },
  {
   "cell_type": "markdown",
   "id": "c387be68",
   "metadata": {
    "papermill": {
     "duration": 0.01404,
     "end_time": "2024-11-18T09:22:23.229508",
     "exception": false,
     "start_time": "2024-11-18T09:22:23.215468",
     "status": "completed"
    },
    "tags": []
   },
   "source": [
    "### A little EDA"
   ]
  },
  {
   "cell_type": "code",
   "execution_count": 11,
   "id": "c641acda",
   "metadata": {
    "execution": {
     "iopub.execute_input": "2024-11-18T09:22:23.259221Z",
     "iopub.status.busy": "2024-11-18T09:22:23.258963Z",
     "iopub.status.idle": "2024-11-18T09:22:23.266339Z",
     "shell.execute_reply": "2024-11-18T09:22:23.265458Z"
    },
    "papermill": {
     "duration": 0.024405,
     "end_time": "2024-11-18T09:22:23.268221",
     "exception": false,
     "start_time": "2024-11-18T09:22:23.243816",
     "status": "completed"
    },
    "tags": []
   },
   "outputs": [],
   "source": [
    "df.loc[:, 'Date'] = pd.to_datetime(df['Date'], errors='coerce') \n",
    "df.set_index('Date', inplace=True)"
   ]
  },
  {
   "cell_type": "code",
   "execution_count": 12,
   "id": "ccd63669",
   "metadata": {
    "execution": {
     "iopub.execute_input": "2024-11-18T09:22:23.298680Z",
     "iopub.status.busy": "2024-11-18T09:22:23.298343Z",
     "iopub.status.idle": "2024-11-18T09:22:23.311358Z",
     "shell.execute_reply": "2024-11-18T09:22:23.310520Z"
    },
    "papermill": {
     "duration": 0.030214,
     "end_time": "2024-11-18T09:22:23.313471",
     "exception": false,
     "start_time": "2024-11-18T09:22:23.283257",
     "status": "completed"
    },
    "tags": []
   },
   "outputs": [
    {
     "data": {
      "text/html": [
       "<div>\n",
       "<style scoped>\n",
       "    .dataframe tbody tr th:only-of-type {\n",
       "        vertical-align: middle;\n",
       "    }\n",
       "\n",
       "    .dataframe tbody tr th {\n",
       "        vertical-align: top;\n",
       "    }\n",
       "\n",
       "    .dataframe thead th {\n",
       "        text-align: right;\n",
       "    }\n",
       "</style>\n",
       "<table border=\"1\" class=\"dataframe\">\n",
       "  <thead>\n",
       "    <tr style=\"text-align: right;\">\n",
       "      <th></th>\n",
       "      <th>Open</th>\n",
       "      <th>High</th>\n",
       "      <th>Low</th>\n",
       "      <th>Close</th>\n",
       "      <th>Volume</th>\n",
       "    </tr>\n",
       "    <tr>\n",
       "      <th>Date</th>\n",
       "      <th></th>\n",
       "      <th></th>\n",
       "      <th></th>\n",
       "      <th></th>\n",
       "      <th></th>\n",
       "    </tr>\n",
       "  </thead>\n",
       "  <tbody>\n",
       "    <tr>\n",
       "      <th>2019-11-11</th>\n",
       "      <td>137.610001</td>\n",
       "      <td>137.789993</td>\n",
       "      <td>136.440002</td>\n",
       "      <td>137.059998</td>\n",
       "      <td>7037300</td>\n",
       "    </tr>\n",
       "    <tr>\n",
       "      <th>2019-11-12</th>\n",
       "      <td>137.029999</td>\n",
       "      <td>137.589996</td>\n",
       "      <td>136.190002</td>\n",
       "      <td>137.429993</td>\n",
       "      <td>6448600</td>\n",
       "    </tr>\n",
       "    <tr>\n",
       "      <th>2019-11-13</th>\n",
       "      <td>137.800003</td>\n",
       "      <td>138.220001</td>\n",
       "      <td>137.639999</td>\n",
       "      <td>137.979996</td>\n",
       "      <td>8776000</td>\n",
       "    </tr>\n",
       "    <tr>\n",
       "      <th>2019-11-14</th>\n",
       "      <td>138.389999</td>\n",
       "      <td>138.940002</td>\n",
       "      <td>137.869995</td>\n",
       "      <td>138.559998</td>\n",
       "      <td>5220500</td>\n",
       "    </tr>\n",
       "    <tr>\n",
       "      <th>2019-11-15</th>\n",
       "      <td>138.029999</td>\n",
       "      <td>138.419998</td>\n",
       "      <td>137.970001</td>\n",
       "      <td>138.210007</td>\n",
       "      <td>10106700</td>\n",
       "    </tr>\n",
       "    <tr>\n",
       "      <th>...</th>\n",
       "      <td>...</td>\n",
       "      <td>...</td>\n",
       "      <td>...</td>\n",
       "      <td>...</td>\n",
       "      <td>...</td>\n",
       "    </tr>\n",
       "    <tr>\n",
       "      <th>2024-11-04</th>\n",
       "      <td>253.320007</td>\n",
       "      <td>253.580002</td>\n",
       "      <td>252.270004</td>\n",
       "      <td>252.830002</td>\n",
       "      <td>4581400</td>\n",
       "    </tr>\n",
       "    <tr>\n",
       "      <th>2024-11-05</th>\n",
       "      <td>253.779999</td>\n",
       "      <td>253.990005</td>\n",
       "      <td>252.410004</td>\n",
       "      <td>253.399994</td>\n",
       "      <td>6029900</td>\n",
       "    </tr>\n",
       "    <tr>\n",
       "      <th>2024-11-06</th>\n",
       "      <td>245.639999</td>\n",
       "      <td>247.350006</td>\n",
       "      <td>244.949997</td>\n",
       "      <td>245.699997</td>\n",
       "      <td>14600200</td>\n",
       "    </tr>\n",
       "    <tr>\n",
       "      <th>2024-11-07</th>\n",
       "      <td>248.289993</td>\n",
       "      <td>250.240005</td>\n",
       "      <td>248.119995</td>\n",
       "      <td>249.649994</td>\n",
       "      <td>8821400</td>\n",
       "    </tr>\n",
       "    <tr>\n",
       "      <th>2024-11-08</th>\n",
       "      <td>249.070007</td>\n",
       "      <td>249.350006</td>\n",
       "      <td>247.779999</td>\n",
       "      <td>247.960007</td>\n",
       "      <td>6166900</td>\n",
       "    </tr>\n",
       "  </tbody>\n",
       "</table>\n",
       "<p>1258 rows × 5 columns</p>\n",
       "</div>"
      ],
      "text/plain": [
       "                  Open        High         Low       Close    Volume\n",
       "Date                                                                \n",
       "2019-11-11  137.610001  137.789993  136.440002  137.059998   7037300\n",
       "2019-11-12  137.029999  137.589996  136.190002  137.429993   6448600\n",
       "2019-11-13  137.800003  138.220001  137.639999  137.979996   8776000\n",
       "2019-11-14  138.389999  138.940002  137.869995  138.559998   5220500\n",
       "2019-11-15  138.029999  138.419998  137.970001  138.210007  10106700\n",
       "...                ...         ...         ...         ...       ...\n",
       "2024-11-04  253.320007  253.580002  252.270004  252.830002   4581400\n",
       "2024-11-05  253.779999  253.990005  252.410004  253.399994   6029900\n",
       "2024-11-06  245.639999  247.350006  244.949997  245.699997  14600200\n",
       "2024-11-07  248.289993  250.240005  248.119995  249.649994   8821400\n",
       "2024-11-08  249.070007  249.350006  247.779999  247.960007   6166900\n",
       "\n",
       "[1258 rows x 5 columns]"
      ]
     },
     "execution_count": 12,
     "metadata": {},
     "output_type": "execute_result"
    }
   ],
   "source": [
    "df"
   ]
  },
  {
   "cell_type": "code",
   "execution_count": 13,
   "id": "09ca661c",
   "metadata": {
    "execution": {
     "iopub.execute_input": "2024-11-18T09:22:23.346157Z",
     "iopub.status.busy": "2024-11-18T09:22:23.345808Z",
     "iopub.status.idle": "2024-11-18T09:22:24.086172Z",
     "shell.execute_reply": "2024-11-18T09:22:24.085259Z"
    },
    "papermill": {
     "duration": 0.758265,
     "end_time": "2024-11-18T09:22:24.088164",
     "exception": false,
     "start_time": "2024-11-18T09:22:23.329899",
     "status": "completed"
    },
    "tags": []
   },
   "outputs": [
    {
     "data": {
      "image/png": "[encoded data removed]",
      "text/plain": [
       "<Figure size 600x500 with 2 Axes>"
      ]
     },
     "metadata": {},
     "output_type": "display_data"
    }
   ],
   "source": [
    "import seaborn as sns\n",
    "import matplotlib.pyplot as plt\n",
    "\n",
    "correlation_matrix = df[[\"Open\", \"High\", \"Low\", \"Close\", \"Volume\"]].corr()\n",
    "\n",
    "plt.figure(figsize=(6, 5))\n",
    "sns.heatmap(correlation_matrix, annot=True, cmap=\"coolwarm\", vmin=-1, vmax=1)\n",
    "plt.title(\"Correlation matrix\")\n",
    "plt.show()\n"
   ]
  },
  {
   "cell_type": "markdown",
   "id": "020bfd99",
   "metadata": {
    "papermill": {
     "duration": 0.015327,
     "end_time": "2024-11-18T09:22:24.120321",
     "exception": false,
     "start_time": "2024-11-18T09:22:24.104994",
     "status": "completed"
    },
    "tags": []
   },
   "source": [
    "#### As you can see:\n",
    "- The correlation coeff between Close, High, Low, Open is 1, it means that they all go together.\n",
    "- The correlation between Close, High, Low, Open and Volume is really low, It means that they seem to have no correlation with the volume.\n",
    "\n",
    "-> to forecast the gold price in the future, i'll only use the Close column."
   ]
  },
  {
   "cell_type": "code",
   "execution_count": 14,
   "id": "51f2a836",
   "metadata": {
    "execution": {
     "iopub.execute_input": "2024-11-18T09:22:24.152319Z",
     "iopub.status.busy": "2024-11-18T09:22:24.151476Z",
     "iopub.status.idle": "2024-11-18T09:22:24.502151Z",
     "shell.execute_reply": "2024-11-18T09:22:24.501242Z"
    },
    "papermill": {
     "duration": 0.369053,
     "end_time": "2024-11-18T09:22:24.504478",
     "exception": false,
     "start_time": "2024-11-18T09:22:24.135425",
     "status": "completed"
    },
    "tags": []
   },
   "outputs": [
    {
     "data": {
      "text/plain": [
       "<Axes: xlabel='Date'>"
      ]
     },
     "execution_count": 14,
     "metadata": {},
     "output_type": "execute_result"
    },
    {
     "data": {
      "image/png": "[encoded data removed]",
      "text/plain": [
       "<Figure size 640x480 with 1 Axes>"
      ]
     },
     "metadata": {},
     "output_type": "display_data"
    }
   ],
   "source": [
    "df['Close'].plot()"
   ]
  },
  {
   "cell_type": "markdown",
   "id": "71554958",
   "metadata": {
    "papermill": {
     "duration": 0.015594,
     "end_time": "2024-11-18T09:22:24.536333",
     "exception": false,
     "start_time": "2024-11-18T09:22:24.520739",
     "status": "completed"
    },
    "tags": []
   },
   "source": [
    "#### From the chart:\n",
    "- The gold price grows over time despite some dips.\n",
    "- From late 2023, it rises sharply and reaches the highest point in 2024.\n",
    "\n",
    "For more information, lets decompose it!"
   ]
  },
  {
   "cell_type": "code",
   "execution_count": 15,
   "id": "80849905",
   "metadata": {
    "execution": {
     "iopub.execute_input": "2024-11-18T09:22:24.569501Z",
     "iopub.status.busy": "2024-11-18T09:22:24.569202Z",
     "iopub.status.idle": "2024-11-18T09:22:26.682009Z",
     "shell.execute_reply": "2024-11-18T09:22:26.681069Z"
    },
    "papermill": {
     "duration": 2.132232,
     "end_time": "2024-11-18T09:22:26.684182",
     "exception": false,
     "start_time": "2024-11-18T09:22:24.551950",
     "status": "completed"
    },
    "tags": []
   },
   "outputs": [
    {
     "data": {
      "image/png": "[encoded data removed]",
      "text/plain": [
       "<Figure size 640x480 with 4 Axes>"
      ]
     },
     "metadata": {},
     "output_type": "display_data"
    }
   ],
   "source": [
    "result = seasonal_decompose(df[\"Close\"], model=\"multiplicative\", period=30)\n",
    "result.plot()\n",
    "plt.show()"
   ]
  },
  {
   "cell_type": "markdown",
   "id": "57dc5993",
   "metadata": {
    "papermill": {
     "duration": 0.017,
     "end_time": "2024-11-18T09:22:26.718539",
     "exception": false,
     "start_time": "2024-11-18T09:22:26.701539",
     "status": "completed"
    },
    "tags": []
   },
   "source": [
    "### Create windows\n",
    "- Window: Basically, it's time in the past. it's like u look back the past to predict future, so that u have to create a dataset that contain the value in the past.\n",
    "- For example: t_1 is value of the previous day. "
   ]
  },
  {
   "cell_type": "code",
   "execution_count": 16,
   "id": "e09db61c",
   "metadata": {
    "execution": {
     "iopub.execute_input": "2024-11-18T09:22:26.754033Z",
     "iopub.status.busy": "2024-11-18T09:22:26.753646Z",
     "iopub.status.idle": "2024-11-18T09:22:26.765330Z",
     "shell.execute_reply": "2024-11-18T09:22:26.764459Z"
    },
    "papermill": {
     "duration": 0.031969,
     "end_time": "2024-11-18T09:22:26.767367",
     "exception": false,
     "start_time": "2024-11-18T09:22:26.735398",
     "status": "completed"
    },
    "tags": []
   },
   "outputs": [
    {
     "data": {
      "text/html": [
       "<div>\n",
       "<style scoped>\n",
       "    .dataframe tbody tr th:only-of-type {\n",
       "        vertical-align: middle;\n",
       "    }\n",
       "\n",
       "    .dataframe tbody tr th {\n",
       "        vertical-align: top;\n",
       "    }\n",
       "\n",
       "    .dataframe thead th {\n",
       "        text-align: right;\n",
       "    }\n",
       "</style>\n",
       "<table border=\"1\" class=\"dataframe\">\n",
       "  <thead>\n",
       "    <tr style=\"text-align: right;\">\n",
       "      <th></th>\n",
       "      <th>Close</th>\n",
       "    </tr>\n",
       "    <tr>\n",
       "      <th>Date</th>\n",
       "      <th></th>\n",
       "    </tr>\n",
       "  </thead>\n",
       "  <tbody>\n",
       "    <tr>\n",
       "      <th>2019-11-11</th>\n",
       "      <td>137.059998</td>\n",
       "    </tr>\n",
       "    <tr>\n",
       "      <th>2019-11-12</th>\n",
       "      <td>137.429993</td>\n",
       "    </tr>\n",
       "    <tr>\n",
       "      <th>2019-11-13</th>\n",
       "      <td>137.979996</td>\n",
       "    </tr>\n",
       "    <tr>\n",
       "      <th>2019-11-14</th>\n",
       "      <td>138.559998</td>\n",
       "    </tr>\n",
       "    <tr>\n",
       "      <th>2019-11-15</th>\n",
       "      <td>138.210007</td>\n",
       "    </tr>\n",
       "    <tr>\n",
       "      <th>...</th>\n",
       "      <td>...</td>\n",
       "    </tr>\n",
       "    <tr>\n",
       "      <th>2024-11-04</th>\n",
       "      <td>252.830002</td>\n",
       "    </tr>\n",
       "    <tr>\n",
       "      <th>2024-11-05</th>\n",
       "      <td>253.399994</td>\n",
       "    </tr>\n",
       "    <tr>\n",
       "      <th>2024-11-06</th>\n",
       "      <td>245.699997</td>\n",
       "    </tr>\n",
       "    <tr>\n",
       "      <th>2024-11-07</th>\n",
       "      <td>249.649994</td>\n",
       "    </tr>\n",
       "    <tr>\n",
       "      <th>2024-11-08</th>\n",
       "      <td>247.960007</td>\n",
       "    </tr>\n",
       "  </tbody>\n",
       "</table>\n",
       "<p>1258 rows × 1 columns</p>\n",
       "</div>"
      ],
      "text/plain": [
       "                 Close\n",
       "Date                  \n",
       "2019-11-11  137.059998\n",
       "2019-11-12  137.429993\n",
       "2019-11-13  137.979996\n",
       "2019-11-14  138.559998\n",
       "2019-11-15  138.210007\n",
       "...                ...\n",
       "2024-11-04  252.830002\n",
       "2024-11-05  253.399994\n",
       "2024-11-06  245.699997\n",
       "2024-11-07  249.649994\n",
       "2024-11-08  247.960007\n",
       "\n",
       "[1258 rows x 1 columns]"
      ]
     },
     "execution_count": 16,
     "metadata": {},
     "output_type": "execute_result"
    }
   ],
   "source": [
    "close_df = df[['Close']]\n",
    "close_df"
   ]
  },
  {
   "cell_type": "code",
   "execution_count": 17,
   "id": "5dd2e0ab",
   "metadata": {
    "execution": {
     "iopub.execute_input": "2024-11-18T09:22:26.803492Z",
     "iopub.status.busy": "2024-11-18T09:22:26.803158Z",
     "iopub.status.idle": "2024-11-18T09:22:26.813233Z",
     "shell.execute_reply": "2024-11-18T09:22:26.812498Z"
    },
    "papermill": {
     "duration": 0.030462,
     "end_time": "2024-11-18T09:22:26.815074",
     "exception": false,
     "start_time": "2024-11-18T09:22:26.784612",
     "status": "completed"
    },
    "tags": []
   },
   "outputs": [],
   "source": [
    "from copy import deepcopy as dc\n",
    "\n",
    "def create_window(df, n_steps):\n",
    "    df = dc(df)\n",
    "\n",
    "    for i in range(1, n_steps+1):\n",
    "        df[f'Close(t-{i})'] = df['Close'].shift(i)\n",
    "\n",
    "    df.dropna(inplace=True)\n",
    "\n",
    "    return df\n",
    "\n",
    "lookback = 4\n",
    "close_shifted_df = create_window(close_df, lookback)"
   ]
  },
  {
   "cell_type": "code",
   "execution_count": 18,
   "id": "584d29c9",
   "metadata": {
    "execution": {
     "iopub.execute_input": "2024-11-18T09:22:26.850655Z",
     "iopub.status.busy": "2024-11-18T09:22:26.850302Z",
     "iopub.status.idle": "2024-11-18T09:22:26.864542Z",
     "shell.execute_reply": "2024-11-18T09:22:26.863663Z"
    },
    "papermill": {
     "duration": 0.03425,
     "end_time": "2024-11-18T09:22:26.866378",
     "exception": false,
     "start_time": "2024-11-18T09:22:26.832128",
     "status": "completed"
    },
    "tags": []
   },
   "outputs": [
    {
     "data": {
      "text/html": [
       "<div>\n",
       "<style scoped>\n",
       "    .dataframe tbody tr th:only-of-type {\n",
       "        vertical-align: middle;\n",
       "    }\n",
       "\n",
       "    .dataframe tbody tr th {\n",
       "        vertical-align: top;\n",
       "    }\n",
       "\n",
       "    .dataframe thead th {\n",
       "        text-align: right;\n",
       "    }\n",
       "</style>\n",
       "<table border=\"1\" class=\"dataframe\">\n",
       "  <thead>\n",
       "    <tr style=\"text-align: right;\">\n",
       "      <th></th>\n",
       "      <th>Close</th>\n",
       "      <th>Close(t-1)</th>\n",
       "      <th>Close(t-2)</th>\n",
       "      <th>Close(t-3)</th>\n",
       "      <th>Close(t-4)</th>\n",
       "    </tr>\n",
       "    <tr>\n",
       "      <th>Date</th>\n",
       "      <th></th>\n",
       "      <th></th>\n",
       "      <th></th>\n",
       "      <th></th>\n",
       "      <th></th>\n",
       "    </tr>\n",
       "  </thead>\n",
       "  <tbody>\n",
       "    <tr>\n",
       "      <th>2019-11-15</th>\n",
       "      <td>138.210007</td>\n",
       "      <td>138.559998</td>\n",
       "      <td>137.979996</td>\n",
       "      <td>137.429993</td>\n",
       "      <td>137.059998</td>\n",
       "    </tr>\n",
       "    <tr>\n",
       "      <th>2019-11-18</th>\n",
       "      <td>138.619995</td>\n",
       "      <td>138.210007</td>\n",
       "      <td>138.559998</td>\n",
       "      <td>137.979996</td>\n",
       "      <td>137.429993</td>\n",
       "    </tr>\n",
       "    <tr>\n",
       "      <th>2019-11-19</th>\n",
       "      <td>138.690002</td>\n",
       "      <td>138.619995</td>\n",
       "      <td>138.210007</td>\n",
       "      <td>138.559998</td>\n",
       "      <td>137.979996</td>\n",
       "    </tr>\n",
       "    <tr>\n",
       "      <th>2019-11-20</th>\n",
       "      <td>138.759995</td>\n",
       "      <td>138.690002</td>\n",
       "      <td>138.619995</td>\n",
       "      <td>138.210007</td>\n",
       "      <td>138.559998</td>\n",
       "    </tr>\n",
       "    <tr>\n",
       "      <th>2019-11-21</th>\n",
       "      <td>138.000000</td>\n",
       "      <td>138.759995</td>\n",
       "      <td>138.690002</td>\n",
       "      <td>138.619995</td>\n",
       "      <td>138.210007</td>\n",
       "    </tr>\n",
       "    <tr>\n",
       "      <th>...</th>\n",
       "      <td>...</td>\n",
       "      <td>...</td>\n",
       "      <td>...</td>\n",
       "      <td>...</td>\n",
       "      <td>...</td>\n",
       "    </tr>\n",
       "    <tr>\n",
       "      <th>2024-11-04</th>\n",
       "      <td>252.830002</td>\n",
       "      <td>252.470001</td>\n",
       "      <td>253.509995</td>\n",
       "      <td>257.500000</td>\n",
       "      <td>256.089996</td>\n",
       "    </tr>\n",
       "    <tr>\n",
       "      <th>2024-11-05</th>\n",
       "      <td>253.399994</td>\n",
       "      <td>252.830002</td>\n",
       "      <td>252.470001</td>\n",
       "      <td>253.509995</td>\n",
       "      <td>257.500000</td>\n",
       "    </tr>\n",
       "    <tr>\n",
       "      <th>2024-11-06</th>\n",
       "      <td>245.699997</td>\n",
       "      <td>253.399994</td>\n",
       "      <td>252.830002</td>\n",
       "      <td>252.470001</td>\n",
       "      <td>253.509995</td>\n",
       "    </tr>\n",
       "    <tr>\n",
       "      <th>2024-11-07</th>\n",
       "      <td>249.649994</td>\n",
       "      <td>245.699997</td>\n",
       "      <td>253.399994</td>\n",
       "      <td>252.830002</td>\n",
       "      <td>252.470001</td>\n",
       "    </tr>\n",
       "    <tr>\n",
       "      <th>2024-11-08</th>\n",
       "      <td>247.960007</td>\n",
       "      <td>249.649994</td>\n",
       "      <td>245.699997</td>\n",
       "      <td>253.399994</td>\n",
       "      <td>252.830002</td>\n",
       "    </tr>\n",
       "  </tbody>\n",
       "</table>\n",
       "<p>1254 rows × 5 columns</p>\n",
       "</div>"
      ],
      "text/plain": [
       "                 Close  Close(t-1)  Close(t-2)  Close(t-3)  Close(t-4)\n",
       "Date                                                                  \n",
       "2019-11-15  138.210007  138.559998  137.979996  137.429993  137.059998\n",
       "2019-11-18  138.619995  138.210007  138.559998  137.979996  137.429993\n",
       "2019-11-19  138.690002  138.619995  138.210007  138.559998  137.979996\n",
       "2019-11-20  138.759995  138.690002  138.619995  138.210007  138.559998\n",
       "2019-11-21  138.000000  138.759995  138.690002  138.619995  138.210007\n",
       "...                ...         ...         ...         ...         ...\n",
       "2024-11-04  252.830002  252.470001  253.509995  257.500000  256.089996\n",
       "2024-11-05  253.399994  252.830002  252.470001  253.509995  257.500000\n",
       "2024-11-06  245.699997  253.399994  252.830002  252.470001  253.509995\n",
       "2024-11-07  249.649994  245.699997  253.399994  252.830002  252.470001\n",
       "2024-11-08  247.960007  249.649994  245.699997  253.399994  252.830002\n",
       "\n",
       "[1254 rows x 5 columns]"
      ]
     },
     "execution_count": 18,
     "metadata": {},
     "output_type": "execute_result"
    }
   ],
   "source": [
    "close_shifted_df"
   ]
  },
  {
   "cell_type": "markdown",
   "id": "52574ba0",
   "metadata": {
    "papermill": {
     "duration": 0.016917,
     "end_time": "2024-11-18T09:22:26.900448",
     "exception": false,
     "start_time": "2024-11-18T09:22:26.883531",
     "status": "completed"
    },
    "tags": []
   },
   "source": [
    "### Train test split"
   ]
  },
  {
   "cell_type": "code",
   "execution_count": 19,
   "id": "1926bc84",
   "metadata": {
    "execution": {
     "iopub.execute_input": "2024-11-18T09:22:26.938132Z",
     "iopub.status.busy": "2024-11-18T09:22:26.937270Z",
     "iopub.status.idle": "2024-11-18T09:22:26.943575Z",
     "shell.execute_reply": "2024-11-18T09:22:26.942679Z"
    },
    "papermill": {
     "duration": 0.028218,
     "end_time": "2024-11-18T09:22:26.945754",
     "exception": false,
     "start_time": "2024-11-18T09:22:26.917536",
     "status": "completed"
    },
    "tags": []
   },
   "outputs": [
    {
     "data": {
      "text/plain": [
       "1254"
      ]
     },
     "execution_count": 19,
     "metadata": {},
     "output_type": "execute_result"
    }
   ],
   "source": [
    "len(close_shifted_df)"
   ]
  },
  {
   "cell_type": "code",
   "execution_count": 20,
   "id": "29c33b3a",
   "metadata": {
    "execution": {
     "iopub.execute_input": "2024-11-18T09:22:26.981460Z",
     "iopub.status.busy": "2024-11-18T09:22:26.981198Z",
     "iopub.status.idle": "2024-11-18T09:22:26.985753Z",
     "shell.execute_reply": "2024-11-18T09:22:26.985026Z"
    },
    "papermill": {
     "duration": 0.024562,
     "end_time": "2024-11-18T09:22:26.987648",
     "exception": false,
     "start_time": "2024-11-18T09:22:26.963086",
     "status": "completed"
    },
    "tags": []
   },
   "outputs": [],
   "source": [
    "close_train = close_shifted_df.iloc[:-30] \n",
    "close_test = close_shifted_df.iloc[-30:]  "
   ]
  },
  {
   "cell_type": "code",
   "execution_count": 21,
   "id": "d4e3d45e",
   "metadata": {
    "execution": {
     "iopub.execute_input": "2024-11-18T09:22:27.023569Z",
     "iopub.status.busy": "2024-11-18T09:22:27.023253Z",
     "iopub.status.idle": "2024-11-18T09:22:27.036693Z",
     "shell.execute_reply": "2024-11-18T09:22:27.035831Z"
    },
    "papermill": {
     "duration": 0.034002,
     "end_time": "2024-11-18T09:22:27.039020",
     "exception": false,
     "start_time": "2024-11-18T09:22:27.005018",
     "status": "completed"
    },
    "tags": []
   },
   "outputs": [
    {
     "data": {
      "text/html": [
       "<div>\n",
       "<style scoped>\n",
       "    .dataframe tbody tr th:only-of-type {\n",
       "        vertical-align: middle;\n",
       "    }\n",
       "\n",
       "    .dataframe tbody tr th {\n",
       "        vertical-align: top;\n",
       "    }\n",
       "\n",
       "    .dataframe thead th {\n",
       "        text-align: right;\n",
       "    }\n",
       "</style>\n",
       "<table border=\"1\" class=\"dataframe\">\n",
       "  <thead>\n",
       "    <tr style=\"text-align: right;\">\n",
       "      <th></th>\n",
       "      <th>Close</th>\n",
       "      <th>Close(t-1)</th>\n",
       "      <th>Close(t-2)</th>\n",
       "      <th>Close(t-3)</th>\n",
       "      <th>Close(t-4)</th>\n",
       "    </tr>\n",
       "    <tr>\n",
       "      <th>Date</th>\n",
       "      <th></th>\n",
       "      <th></th>\n",
       "      <th></th>\n",
       "      <th></th>\n",
       "      <th></th>\n",
       "    </tr>\n",
       "  </thead>\n",
       "  <tbody>\n",
       "    <tr>\n",
       "      <th>2019-11-15</th>\n",
       "      <td>138.210007</td>\n",
       "      <td>138.559998</td>\n",
       "      <td>137.979996</td>\n",
       "      <td>137.429993</td>\n",
       "      <td>137.059998</td>\n",
       "    </tr>\n",
       "    <tr>\n",
       "      <th>2019-11-18</th>\n",
       "      <td>138.619995</td>\n",
       "      <td>138.210007</td>\n",
       "      <td>138.559998</td>\n",
       "      <td>137.979996</td>\n",
       "      <td>137.429993</td>\n",
       "    </tr>\n",
       "    <tr>\n",
       "      <th>2019-11-19</th>\n",
       "      <td>138.690002</td>\n",
       "      <td>138.619995</td>\n",
       "      <td>138.210007</td>\n",
       "      <td>138.559998</td>\n",
       "      <td>137.979996</td>\n",
       "    </tr>\n",
       "    <tr>\n",
       "      <th>2019-11-20</th>\n",
       "      <td>138.759995</td>\n",
       "      <td>138.690002</td>\n",
       "      <td>138.619995</td>\n",
       "      <td>138.210007</td>\n",
       "      <td>138.559998</td>\n",
       "    </tr>\n",
       "    <tr>\n",
       "      <th>2019-11-21</th>\n",
       "      <td>138.000000</td>\n",
       "      <td>138.759995</td>\n",
       "      <td>138.690002</td>\n",
       "      <td>138.619995</td>\n",
       "      <td>138.210007</td>\n",
       "    </tr>\n",
       "    <tr>\n",
       "      <th>...</th>\n",
       "      <td>...</td>\n",
       "      <td>...</td>\n",
       "      <td>...</td>\n",
       "      <td>...</td>\n",
       "      <td>...</td>\n",
       "    </tr>\n",
       "    <tr>\n",
       "      <th>2024-09-23</th>\n",
       "      <td>242.679993</td>\n",
       "      <td>242.210007</td>\n",
       "      <td>239.169998</td>\n",
       "      <td>235.509995</td>\n",
       "      <td>237.339996</td>\n",
       "    </tr>\n",
       "    <tr>\n",
       "      <th>2024-09-24</th>\n",
       "      <td>246.070007</td>\n",
       "      <td>242.679993</td>\n",
       "      <td>242.210007</td>\n",
       "      <td>239.169998</td>\n",
       "      <td>235.509995</td>\n",
       "    </tr>\n",
       "    <tr>\n",
       "      <th>2024-09-25</th>\n",
       "      <td>245.729996</td>\n",
       "      <td>246.070007</td>\n",
       "      <td>242.679993</td>\n",
       "      <td>242.210007</td>\n",
       "      <td>239.169998</td>\n",
       "    </tr>\n",
       "    <tr>\n",
       "      <th>2024-09-26</th>\n",
       "      <td>246.979996</td>\n",
       "      <td>245.729996</td>\n",
       "      <td>246.070007</td>\n",
       "      <td>242.679993</td>\n",
       "      <td>242.210007</td>\n",
       "    </tr>\n",
       "    <tr>\n",
       "      <th>2024-09-27</th>\n",
       "      <td>245.020004</td>\n",
       "      <td>246.979996</td>\n",
       "      <td>245.729996</td>\n",
       "      <td>246.070007</td>\n",
       "      <td>242.679993</td>\n",
       "    </tr>\n",
       "  </tbody>\n",
       "</table>\n",
       "<p>1224 rows × 5 columns</p>\n",
       "</div>"
      ],
      "text/plain": [
       "                 Close  Close(t-1)  Close(t-2)  Close(t-3)  Close(t-4)\n",
       "Date                                                                  \n",
       "2019-11-15  138.210007  138.559998  137.979996  137.429993  137.059998\n",
       "2019-11-18  138.619995  138.210007  138.559998  137.979996  137.429993\n",
       "2019-11-19  138.690002  138.619995  138.210007  138.559998  137.979996\n",
       "2019-11-20  138.759995  138.690002  138.619995  138.210007  138.559998\n",
       "2019-11-21  138.000000  138.759995  138.690002  138.619995  138.210007\n",
       "...                ...         ...         ...         ...         ...\n",
       "2024-09-23  242.679993  242.210007  239.169998  235.509995  237.339996\n",
       "2024-09-24  246.070007  242.679993  242.210007  239.169998  235.509995\n",
       "2024-09-25  245.729996  246.070007  242.679993  242.210007  239.169998\n",
       "2024-09-26  246.979996  245.729996  246.070007  242.679993  242.210007\n",
       "2024-09-27  245.020004  246.979996  245.729996  246.070007  242.679993\n",
       "\n",
       "[1224 rows x 5 columns]"
      ]
     },
     "execution_count": 21,
     "metadata": {},
     "output_type": "execute_result"
    }
   ],
   "source": [
    "close_train"
   ]
  },
  {
   "cell_type": "code",
   "execution_count": 22,
   "id": "cc83e2e9",
   "metadata": {
    "execution": {
     "iopub.execute_input": "2024-11-18T09:22:27.093127Z",
     "iopub.status.busy": "2024-11-18T09:22:27.092207Z",
     "iopub.status.idle": "2024-11-18T09:22:27.098058Z",
     "shell.execute_reply": "2024-11-18T09:22:27.097345Z"
    },
    "papermill": {
     "duration": 0.035143,
     "end_time": "2024-11-18T09:22:27.100099",
     "exception": false,
     "start_time": "2024-11-18T09:22:27.064956",
     "status": "completed"
    },
    "tags": []
   },
   "outputs": [],
   "source": [
    "close_train_np = close_train.to_numpy()\n",
    "close_test_np = close_test.to_numpy()"
   ]
  },
  {
   "cell_type": "code",
   "execution_count": 23,
   "id": "a7c04ccc",
   "metadata": {
    "execution": {
     "iopub.execute_input": "2024-11-18T09:22:27.145211Z",
     "iopub.status.busy": "2024-11-18T09:22:27.144839Z",
     "iopub.status.idle": "2024-11-18T09:22:27.151011Z",
     "shell.execute_reply": "2024-11-18T09:22:27.150104Z"
    },
    "papermill": {
     "duration": 0.027335,
     "end_time": "2024-11-18T09:22:27.152888",
     "exception": false,
     "start_time": "2024-11-18T09:22:27.125553",
     "status": "completed"
    },
    "tags": []
   },
   "outputs": [
    {
     "data": {
      "text/plain": [
       "((1224, 5), (30, 5))"
      ]
     },
     "execution_count": 23,
     "metadata": {},
     "output_type": "execute_result"
    }
   ],
   "source": [
    "close_train_np.shape, close_test_np.shape"
   ]
  },
  {
   "cell_type": "code",
   "execution_count": 24,
   "id": "be6bfca3",
   "metadata": {
    "execution": {
     "iopub.execute_input": "2024-11-18T09:22:27.192413Z",
     "iopub.status.busy": "2024-11-18T09:22:27.192079Z",
     "iopub.status.idle": "2024-11-18T09:22:27.202431Z",
     "shell.execute_reply": "2024-11-18T09:22:27.201416Z"
    },
    "papermill": {
     "duration": 0.032822,
     "end_time": "2024-11-18T09:22:27.204817",
     "exception": false,
     "start_time": "2024-11-18T09:22:27.171995",
     "status": "completed"
    },
    "tags": []
   },
   "outputs": [
    {
     "data": {
      "text/html": [
       "<style>#sk-container-id-1 {color: black;background-color: white;}#sk-container-id-1 pre{padding: 0;}#sk-container-id-1 div.sk-toggleable {background-color: white;}#sk-container-id-1 label.sk-toggleable__label {cursor: pointer;display: block;width: 100%;margin-bottom: 0;padding: 0.3em;box-sizing: border-box;text-align: center;}#sk-container-id-1 label.sk-toggleable__label-arrow:before {content: \"▸\";float: left;margin-right: 0.25em;color: #696969;}#sk-container-id-1 label.sk-toggleable__label-arrow:hover:before {color: black;}#sk-container-id-1 div.sk-estimator:hover label.sk-toggleable__label-arrow:before {color: black;}#sk-container-id-1 div.sk-toggleable__content {max-height: 0;max-width: 0;overflow: hidden;text-align: left;background-color: #f0f8ff;}#sk-container-id-1 div.sk-toggleable__content pre {margin: 0.2em;color: black;border-radius: 0.25em;background-color: #f0f8ff;}#sk-container-id-1 input.sk-toggleable__control:checked~div.sk-toggleable__content {max-height: 200px;max-width: 100%;overflow: auto;}#sk-container-id-1 input.sk-toggleable__control:checked~label.sk-toggleable__label-arrow:before {content: \"▾\";}#sk-container-id-1 div.sk-estimator input.sk-toggleable__control:checked~label.sk-toggleable__label {background-color: #d4ebff;}#sk-container-id-1 div.sk-label input.sk-toggleable__control:checked~label.sk-toggleable__label {background-color: #d4ebff;}#sk-container-id-1 input.sk-hidden--visually {border: 0;clip: rect(1px 1px 1px 1px);clip: rect(1px, 1px, 1px, 1px);height: 1px;margin: -1px;overflow: hidden;padding: 0;position: absolute;width: 1px;}#sk-container-id-1 div.sk-estimator {font-family: monospace;background-color: #f0f8ff;border: 1px dotted black;border-radius: 0.25em;box-sizing: border-box;margin-bottom: 0.5em;}#sk-container-id-1 div.sk-estimator:hover {background-color: #d4ebff;}#sk-container-id-1 div.sk-parallel-item::after {content: \"\";width: 100%;border-bottom: 1px solid gray;flex-grow: 1;}#sk-container-id-1 div.sk-label:hover label.sk-toggleable__label {background-color: #d4ebff;}#sk-container-id-1 div.sk-serial::before {content: \"\";position: absolute;border-left: 1px solid gray;box-sizing: border-box;top: 0;bottom: 0;left: 50%;z-index: 0;}#sk-container-id-1 div.sk-serial {display: flex;flex-direction: column;align-items: center;background-color: white;padding-right: 0.2em;padding-left: 0.2em;position: relative;}#sk-container-id-1 div.sk-item {position: relative;z-index: 1;}#sk-container-id-1 div.sk-parallel {display: flex;align-items: stretch;justify-content: center;background-color: white;position: relative;}#sk-container-id-1 div.sk-item::before, #sk-container-id-1 div.sk-parallel-item::before {content: \"\";position: absolute;border-left: 1px solid gray;box-sizing: border-box;top: 0;bottom: 0;left: 50%;z-index: -1;}#sk-container-id-1 div.sk-parallel-item {display: flex;flex-direction: column;z-index: 1;position: relative;background-color: white;}#sk-container-id-1 div.sk-parallel-item:first-child::after {align-self: flex-end;width: 50%;}#sk-container-id-1 div.sk-parallel-item:last-child::after {align-self: flex-start;width: 50%;}#sk-container-id-1 div.sk-parallel-item:only-child::after {width: 0;}#sk-container-id-1 div.sk-dashed-wrapped {border: 1px dashed gray;margin: 0 0.4em 0.5em 0.4em;box-sizing: border-box;padding-bottom: 0.4em;background-color: white;}#sk-container-id-1 div.sk-label label {font-family: monospace;font-weight: bold;display: inline-block;line-height: 1.2em;}#sk-container-id-1 div.sk-label-container {text-align: center;}#sk-container-id-1 div.sk-container {/* jupyter's `normalize.less` sets `[hidden] { display: none; }` but bootstrap.min.css set `[hidden] { display: none !important; }` so we also need the `!important` here to be able to override the default hidden behavior on the sphinx rendered scikit-learn.org. See: https://github.com/scikit-learn/scikit-learn/issues/21755 */display: inline-block !important;position: relative;}#sk-container-id-1 div.sk-text-repr-fallback {display: none;}</style><div id=\"sk-container-id-1\" class=\"sk-top-container\"><div class=\"sk-text-repr-fallback\"><pre>MinMaxScaler(feature_range=(-1, 1))</pre><b>In a Jupyter environment, please rerun this cell to show the HTML representation or trust the notebook. <br />On GitHub, the HTML representation is unable to render, please try loading this page with nbviewer.org.</b></div><div class=\"sk-container\" hidden><div class=\"sk-item\"><div class=\"sk-estimator sk-toggleable\"><input class=\"sk-toggleable__control sk-hidden--visually\" id=\"sk-estimator-id-1\" type=\"checkbox\" checked><label for=\"sk-estimator-id-1\" class=\"sk-toggleable__label sk-toggleable__label-arrow\">MinMaxScaler</label><div class=\"sk-toggleable__content\"><pre>MinMaxScaler(feature_range=(-1, 1))</pre></div></div></div></div></div>"
      ],
      "text/plain": [
       "MinMaxScaler(feature_range=(-1, 1))"
      ]
     },
     "execution_count": 24,
     "metadata": {},
     "output_type": "execute_result"
    }
   ],
   "source": [
    "from sklearn.preprocessing import MinMaxScaler\n",
    "\n",
    "scaler = MinMaxScaler(feature_range=(-1, 1))\n",
    "scaler.fit(close_train_np)"
   ]
  },
  {
   "cell_type": "code",
   "execution_count": 25,
   "id": "122480f8",
   "metadata": {
    "execution": {
     "iopub.execute_input": "2024-11-18T09:22:27.246317Z",
     "iopub.status.busy": "2024-11-18T09:22:27.246014Z",
     "iopub.status.idle": "2024-11-18T09:22:27.250917Z",
     "shell.execute_reply": "2024-11-18T09:22:27.250174Z"
    },
    "papermill": {
     "duration": 0.026851,
     "end_time": "2024-11-18T09:22:27.252795",
     "exception": false,
     "start_time": "2024-11-18T09:22:27.225944",
     "status": "completed"
    },
    "tags": []
   },
   "outputs": [],
   "source": [
    "close_train_np = scaler.transform(close_train_np)\n",
    "close_test_np = scaler.transform(close_test_np)"
   ]
  },
  {
   "cell_type": "code",
   "execution_count": 26,
   "id": "8eb204c3",
   "metadata": {
    "execution": {
     "iopub.execute_input": "2024-11-18T09:22:27.290264Z",
     "iopub.status.busy": "2024-11-18T09:22:27.290004Z",
     "iopub.status.idle": "2024-11-18T09:22:27.294433Z",
     "shell.execute_reply": "2024-11-18T09:22:27.293575Z"
    },
    "papermill": {
     "duration": 0.025193,
     "end_time": "2024-11-18T09:22:27.296386",
     "exception": false,
     "start_time": "2024-11-18T09:22:27.271193",
     "status": "completed"
    },
    "tags": []
   },
   "outputs": [],
   "source": [
    "y_train = close_train_np[:, 0] \n",
    "X_train = close_train_np[:, 1:] \n",
    "\n",
    "y_test = close_test_np[:, 0]     \n",
    "X_test = close_test_np[:, 1:]   "
   ]
  },
  {
   "cell_type": "code",
   "execution_count": 27,
   "id": "4833df23",
   "metadata": {
    "execution": {
     "iopub.execute_input": "2024-11-18T09:22:27.333611Z",
     "iopub.status.busy": "2024-11-18T09:22:27.333348Z",
     "iopub.status.idle": "2024-11-18T09:22:27.339130Z",
     "shell.execute_reply": "2024-11-18T09:22:27.338341Z"
    },
    "papermill": {
     "duration": 0.026729,
     "end_time": "2024-11-18T09:22:27.341086",
     "exception": false,
     "start_time": "2024-11-18T09:22:27.314357",
     "status": "completed"
    },
    "tags": []
   },
   "outputs": [
    {
     "data": {
      "text/plain": [
       "((1224, 4), (1224,), (30, 4), (30,))"
      ]
     },
     "execution_count": 27,
     "metadata": {},
     "output_type": "execute_result"
    }
   ],
   "source": [
    "X_train.shape, y_train.shape, X_test.shape, y_test.shape"
   ]
  },
  {
   "cell_type": "code",
   "execution_count": 28,
   "id": "11dca312",
   "metadata": {
    "execution": {
     "iopub.execute_input": "2024-11-18T09:22:27.378199Z",
     "iopub.status.busy": "2024-11-18T09:22:27.377940Z",
     "iopub.status.idle": "2024-11-18T09:22:27.382164Z",
     "shell.execute_reply": "2024-11-18T09:22:27.381357Z"
    },
    "papermill": {
     "duration": 0.024878,
     "end_time": "2024-11-18T09:22:27.384178",
     "exception": false,
     "start_time": "2024-11-18T09:22:27.359300",
     "status": "completed"
    },
    "tags": []
   },
   "outputs": [],
   "source": [
    "X_train = dc(np.flip(X_train, axis=1))\n",
    "X_test = dc(np.flip(X_test, axis=1))"
   ]
  },
  {
   "cell_type": "code",
   "execution_count": 29,
   "id": "c94a28b1",
   "metadata": {
    "execution": {
     "iopub.execute_input": "2024-11-18T09:22:27.421402Z",
     "iopub.status.busy": "2024-11-18T09:22:27.420919Z",
     "iopub.status.idle": "2024-11-18T09:22:27.425568Z",
     "shell.execute_reply": "2024-11-18T09:22:27.424765Z"
    },
    "papermill": {
     "duration": 0.025239,
     "end_time": "2024-11-18T09:22:27.427469",
     "exception": false,
     "start_time": "2024-11-18T09:22:27.402230",
     "status": "completed"
    },
    "tags": []
   },
   "outputs": [],
   "source": [
    "# LSTM requires the input: (batch_size, sequence_length, input_size)\n",
    "# so that we have to add 1 column before\n",
    "X_train = X_train.reshape((-1, lookback, 1))\n",
    "X_test = X_test.reshape((-1, lookback, 1))\n",
    "\n",
    "y_train = y_train.reshape((-1, 1))\n",
    "y_test = y_test.reshape((-1, 1))"
   ]
  },
  {
   "cell_type": "code",
   "execution_count": 30,
   "id": "04fa9745",
   "metadata": {
    "execution": {
     "iopub.execute_input": "2024-11-18T09:22:27.464883Z",
     "iopub.status.busy": "2024-11-18T09:22:27.464579Z",
     "iopub.status.idle": "2024-11-18T09:22:27.470267Z",
     "shell.execute_reply": "2024-11-18T09:22:27.469463Z"
    },
    "papermill": {
     "duration": 0.026626,
     "end_time": "2024-11-18T09:22:27.472176",
     "exception": false,
     "start_time": "2024-11-18T09:22:27.445550",
     "status": "completed"
    },
    "tags": []
   },
   "outputs": [
    {
     "data": {
      "text/plain": [
       "((1224, 4, 1), (30, 4, 1), (1224, 1), (30, 1))"
      ]
     },
     "execution_count": 30,
     "metadata": {},
     "output_type": "execute_result"
    }
   ],
   "source": [
    "X_train.shape, X_test.shape, y_train.shape, y_test.shape"
   ]
  },
  {
   "cell_type": "code",
   "execution_count": 31,
   "id": "e563d509",
   "metadata": {
    "execution": {
     "iopub.execute_input": "2024-11-18T09:22:27.510088Z",
     "iopub.status.busy": "2024-11-18T09:22:27.509824Z",
     "iopub.status.idle": "2024-11-18T09:22:27.544382Z",
     "shell.execute_reply": "2024-11-18T09:22:27.543365Z"
    },
    "papermill": {
     "duration": 0.055415,
     "end_time": "2024-11-18T09:22:27.546341",
     "exception": false,
     "start_time": "2024-11-18T09:22:27.490926",
     "status": "completed"
    },
    "tags": []
   },
   "outputs": [
    {
     "data": {
      "text/plain": [
       "(torch.Size([1224, 4, 1]),\n",
       " torch.Size([30, 4, 1]),\n",
       " torch.Size([1224, 1]),\n",
       " torch.Size([30, 1]))"
      ]
     },
     "execution_count": 31,
     "metadata": {},
     "output_type": "execute_result"
    }
   ],
   "source": [
    "# convert to tensor\n",
    "X_train = torch.tensor(X_train).float()\n",
    "y_train = torch.tensor(y_train).float()\n",
    "X_test = torch.tensor(X_test).float()\n",
    "y_test = torch.tensor(y_test).float()\n",
    "\n",
    "X_train.shape, X_test.shape, y_train.shape, y_test.shape"
   ]
  },
  {
   "cell_type": "markdown",
   "id": "633f4268",
   "metadata": {
    "papermill": {
     "duration": 0.018332,
     "end_time": "2024-11-18T09:22:27.583353",
     "exception": false,
     "start_time": "2024-11-18T09:22:27.565021",
     "status": "completed"
    },
    "tags": []
   },
   "source": [
    "### Define the LSTM Class in Pytorch"
   ]
  },
  {
   "cell_type": "code",
   "execution_count": 32,
   "id": "3224cb08",
   "metadata": {
    "execution": {
     "iopub.execute_input": "2024-11-18T09:22:27.621604Z",
     "iopub.status.busy": "2024-11-18T09:22:27.621257Z",
     "iopub.status.idle": "2024-11-18T09:22:27.686460Z",
     "shell.execute_reply": "2024-11-18T09:22:27.685570Z"
    },
    "papermill": {
     "duration": 0.086721,
     "end_time": "2024-11-18T09:22:27.688385",
     "exception": false,
     "start_time": "2024-11-18T09:22:27.601664",
     "status": "completed"
    },
    "tags": []
   },
   "outputs": [
    {
     "data": {
      "text/plain": [
       "'cuda:0'"
      ]
     },
     "execution_count": 32,
     "metadata": {},
     "output_type": "execute_result"
    }
   ],
   "source": [
    "device = 'cuda:0' if torch.cuda.is_available() else 'cpu'\n",
    "device"
   ]
  },
  {
   "cell_type": "code",
   "execution_count": 33,
   "id": "47d21c81",
   "metadata": {
    "execution": {
     "iopub.execute_input": "2024-11-18T09:22:27.726544Z",
     "iopub.status.busy": "2024-11-18T09:22:27.726241Z",
     "iopub.status.idle": "2024-11-18T09:22:27.732109Z",
     "shell.execute_reply": "2024-11-18T09:22:27.731251Z"
    },
    "papermill": {
     "duration": 0.027043,
     "end_time": "2024-11-18T09:22:27.733948",
     "exception": false,
     "start_time": "2024-11-18T09:22:27.706905",
     "status": "completed"
    },
    "tags": []
   },
   "outputs": [],
   "source": [
    "from torch.utils.data import Dataset\n",
    "\n",
    "class TimeSeriesDataset(Dataset):\n",
    "    def __init__(self, X, y):\n",
    "        self.X = X\n",
    "        self.y = y\n",
    "\n",
    "    def __len__(self):\n",
    "        return len(self.X)\n",
    "\n",
    "    def __getitem__(self, i):\n",
    "        return self.X[i], self.y[i]\n",
    "\n",
    "train_dataset = TimeSeriesDataset(X_train, y_train)\n",
    "test_dataset = TimeSeriesDataset(X_test, y_test)"
   ]
  },
  {
   "cell_type": "code",
   "execution_count": 34,
   "id": "d51d0463",
   "metadata": {
    "execution": {
     "iopub.execute_input": "2024-11-18T09:22:27.771980Z",
     "iopub.status.busy": "2024-11-18T09:22:27.771475Z",
     "iopub.status.idle": "2024-11-18T09:22:27.776425Z",
     "shell.execute_reply": "2024-11-18T09:22:27.775554Z"
    },
    "papermill": {
     "duration": 0.026077,
     "end_time": "2024-11-18T09:22:27.778380",
     "exception": false,
     "start_time": "2024-11-18T09:22:27.752303",
     "status": "completed"
    },
    "tags": []
   },
   "outputs": [],
   "source": [
    "from torch.utils.data import DataLoader\n",
    "\n",
    "batch_size = 16\n",
    "\n",
    "train_loader = DataLoader(train_dataset, batch_size=batch_size, shuffle=True)\n",
    "test_loader = DataLoader(test_dataset, batch_size=batch_size, shuffle=False)"
   ]
  },
  {
   "cell_type": "code",
   "execution_count": 35,
   "id": "b5042fd6",
   "metadata": {
    "execution": {
     "iopub.execute_input": "2024-11-18T09:22:27.819159Z",
     "iopub.status.busy": "2024-11-18T09:22:27.818878Z",
     "iopub.status.idle": "2024-11-18T09:22:28.006499Z",
     "shell.execute_reply": "2024-11-18T09:22:28.005519Z"
    },
    "papermill": {
     "duration": 0.211844,
     "end_time": "2024-11-18T09:22:28.008667",
     "exception": false,
     "start_time": "2024-11-18T09:22:27.796823",
     "status": "completed"
    },
    "tags": []
   },
   "outputs": [
    {
     "name": "stdout",
     "output_type": "stream",
     "text": [
      "torch.Size([16, 4, 1]) torch.Size([16, 1])\n"
     ]
    }
   ],
   "source": [
    "for _, batch in enumerate(train_loader):\n",
    "    x_batch, y_batch = batch[0].to(device), batch[1].to(device)\n",
    "    print(x_batch.shape, y_batch.shape)\n",
    "    break"
   ]
  },
  {
   "cell_type": "code",
   "execution_count": 36,
   "id": "958d36df",
   "metadata": {
    "execution": {
     "iopub.execute_input": "2024-11-18T09:22:28.049374Z",
     "iopub.status.busy": "2024-11-18T09:22:28.048717Z",
     "iopub.status.idle": "2024-11-18T09:22:28.056900Z",
     "shell.execute_reply": "2024-11-18T09:22:28.055970Z"
    },
    "papermill": {
     "duration": 0.030705,
     "end_time": "2024-11-18T09:22:28.059065",
     "exception": false,
     "start_time": "2024-11-18T09:22:28.028360",
     "status": "completed"
    },
    "tags": []
   },
   "outputs": [],
   "source": [
    "import torch\n",
    "import torch.nn as nn\n",
    "\n",
    "class SimpleLSTM(nn.Module):\n",
    "    def __init__(self, input_size, hidden_size, num_layers, output_size=1):\n",
    "\n",
    "        super(SimpleLSTM, self).__init__()\n",
    "        self.hidden_size = hidden_size\n",
    "        self.num_layers = num_layers\n",
    "\n",
    "        self.lstm = nn.LSTM(input_size, hidden_size, num_layers, batch_first=True)\n",
    "\n",
    "        self.fc = nn.Linear(hidden_size, output_size)\n",
    "\n",
    "    def forward(self, x):\n",
    "        batch_size = x.size(0)\n",
    "        h0 = torch.zeros(self.num_layers, batch_size, self.hidden_size).to(x.device)  \n",
    "        c0 = torch.zeros(self.num_layers, batch_size, self.hidden_size).to(x.device)  \n",
    "        out, _ = self.lstm(x, (h0, c0)) \n",
    "        out = self.fc(out[:, -1, :]) \n",
    "        return out"
   ]
  },
  {
   "cell_type": "code",
   "execution_count": 37,
   "id": "829c62aa",
   "metadata": {
    "execution": {
     "iopub.execute_input": "2024-11-18T09:22:28.098982Z",
     "iopub.status.busy": "2024-11-18T09:22:28.098236Z",
     "iopub.status.idle": "2024-11-18T09:22:29.490613Z",
     "shell.execute_reply": "2024-11-18T09:22:29.489835Z"
    },
    "papermill": {
     "duration": 1.414723,
     "end_time": "2024-11-18T09:22:29.492918",
     "exception": false,
     "start_time": "2024-11-18T09:22:28.078195",
     "status": "completed"
    },
    "tags": []
   },
   "outputs": [],
   "source": [
    "input_size = 1      \n",
    "hidden_size = 20    \n",
    "num_layers = 1      \n",
    "output_size = 1      \n",
    "\n",
    "model = SimpleLSTM(input_size, hidden_size, num_layers, output_size).to(device)\n",
    "model\n",
    "\n",
    "criterion = nn.MSELoss()\n",
    "optimizer = torch.optim.Adam(model.parameters(), lr=0.0005)"
   ]
  },
  {
   "cell_type": "code",
   "execution_count": 38,
   "id": "15c3bf14",
   "metadata": {
    "execution": {
     "iopub.execute_input": "2024-11-18T09:22:29.532193Z",
     "iopub.status.busy": "2024-11-18T09:22:29.531727Z",
     "iopub.status.idle": "2024-11-18T09:22:29.541654Z",
     "shell.execute_reply": "2024-11-18T09:22:29.540821Z"
    },
    "papermill": {
     "duration": 0.031308,
     "end_time": "2024-11-18T09:22:29.543458",
     "exception": false,
     "start_time": "2024-11-18T09:22:29.512150",
     "status": "completed"
    },
    "tags": []
   },
   "outputs": [],
   "source": [
    "def train_model(model, train_loader, test_loader, criterion, optimizer, num_epochs=100):\n",
    "\n",
    "    train_losses = []\n",
    "    test_losses = []\n",
    "    \n",
    "    for epoch in range(num_epochs):\n",
    "        \n",
    "        # training phase\n",
    "        model.train()\n",
    "        running_train_loss = 0.0\n",
    "        \n",
    "        for batch_X, batch_y in train_loader:\n",
    "            \n",
    "            batch_X = batch_X.to(model.fc.weight.device)\n",
    "            batch_y = batch_y.to(model.fc.weight.device)\n",
    "            \n",
    "            optimizer.zero_grad()\n",
    "            outputs = model(batch_X)\n",
    "            loss = criterion(outputs, batch_y)\n",
    "            \n",
    "            loss.backward()\n",
    "            optimizer.step()\n",
    "            \n",
    "            running_train_loss += loss.item()\n",
    "            \n",
    "        epoch_train_loss = running_train_loss / len(train_loader)\n",
    "        train_losses.append(epoch_train_loss)\n",
    "        \n",
    "        # eval phase\n",
    "        model.eval()\n",
    "        running_test_loss = 0.0\n",
    "        \n",
    "        with torch.no_grad():\n",
    "            for batch_X, batch_y in test_loader:\n",
    "                batch_X = batch_X.to(model.fc.weight.device)\n",
    "                batch_y = batch_y.to(model.fc.weight.device)\n",
    "                \n",
    "                outputs = model(batch_X)\n",
    "                loss = criterion(outputs, batch_y)\n",
    "                running_test_loss += loss.item()\n",
    "                \n",
    "        epoch_test_loss = running_test_loss / len(test_loader)\n",
    "        test_losses.append(epoch_test_loss)\n",
    "        \n",
    "        print(f'Epoch [{epoch+1}/{num_epochs}]')\n",
    "        print(f'Train Loss: {epoch_train_loss:.4f}')\n",
    "        print(f'Test Loss: {epoch_test_loss:.4f}')\n",
    "    \n",
    "    return train_losses, test_losses\n"
   ]
  },
  {
   "cell_type": "code",
   "execution_count": null,
   "id": "1f2898d8",
   "metadata": {
    "papermill": {
     "duration": 0.018254,
     "end_time": "2024-11-18T09:22:29.580211",
     "exception": false,
     "start_time": "2024-11-18T09:22:29.561957",
     "status": "completed"
    },
    "tags": []
   },
   "outputs": [],
   "source": []
  },
  {
   "cell_type": "code",
   "execution_count": 39,
   "id": "46a6d26c",
   "metadata": {
    "execution": {
     "iopub.execute_input": "2024-11-18T09:22:29.618368Z",
     "iopub.status.busy": "2024-11-18T09:22:29.618055Z",
     "iopub.status.idle": "2024-11-18T09:22:47.750858Z",
     "shell.execute_reply": "2024-11-18T09:22:47.749781Z"
    },
    "papermill": {
     "duration": 18.154374,
     "end_time": "2024-11-18T09:22:47.752974",
     "exception": false,
     "start_time": "2024-11-18T09:22:29.598600",
     "status": "completed"
    },
    "tags": []
   },
   "outputs": [
    {
     "name": "stdout",
     "output_type": "stream",
     "text": [
      "Epoch [1/100]\n",
      "Train Loss: 0.2414\n",
      "Test Loss: 1.0209\n",
      "Epoch [2/100]\n",
      "Train Loss: 0.1024\n",
      "Test Loss: 1.0318\n",
      "Epoch [3/100]\n",
      "Train Loss: 0.0518\n",
      "Test Loss: 0.7164\n",
      "Epoch [4/100]\n",
      "Train Loss: 0.0237\n",
      "Test Loss: 0.4388\n",
      "Epoch [5/100]\n",
      "Train Loss: 0.0094\n",
      "Test Loss: 0.2675\n",
      "Epoch [6/100]\n",
      "Train Loss: 0.0057\n",
      "Test Loss: 0.1811\n",
      "Epoch [7/100]\n",
      "Train Loss: 0.0039\n",
      "Test Loss: 0.1188\n",
      "Epoch [8/100]\n",
      "Train Loss: 0.0031\n",
      "Test Loss: 0.0865\n",
      "Epoch [9/100]\n",
      "Train Loss: 0.0028\n",
      "Test Loss: 0.0698\n",
      "Epoch [10/100]\n",
      "Train Loss: 0.0026\n",
      "Test Loss: 0.0606\n",
      "Epoch [11/100]\n",
      "Train Loss: 0.0026\n",
      "Test Loss: 0.0520\n",
      "Epoch [12/100]\n",
      "Train Loss: 0.0025\n",
      "Test Loss: 0.0479\n",
      "Epoch [13/100]\n",
      "Train Loss: 0.0025\n",
      "Test Loss: 0.0450\n",
      "Epoch [14/100]\n",
      "Train Loss: 0.0024\n",
      "Test Loss: 0.0392\n",
      "Epoch [15/100]\n",
      "Train Loss: 0.0024\n",
      "Test Loss: 0.0343\n",
      "Epoch [16/100]\n",
      "Train Loss: 0.0023\n",
      "Test Loss: 0.0347\n",
      "Epoch [17/100]\n",
      "Train Loss: 0.0023\n",
      "Test Loss: 0.0341\n",
      "Epoch [18/100]\n",
      "Train Loss: 0.0022\n",
      "Test Loss: 0.0339\n",
      "Epoch [19/100]\n",
      "Train Loss: 0.0022\n",
      "Test Loss: 0.0290\n",
      "Epoch [20/100]\n",
      "Train Loss: 0.0021\n",
      "Test Loss: 0.0281\n",
      "Epoch [21/100]\n",
      "Train Loss: 0.0022\n",
      "Test Loss: 0.0262\n",
      "Epoch [22/100]\n",
      "Train Loss: 0.0021\n",
      "Test Loss: 0.0250\n",
      "Epoch [23/100]\n",
      "Train Loss: 0.0020\n",
      "Test Loss: 0.0203\n",
      "Epoch [24/100]\n",
      "Train Loss: 0.0020\n",
      "Test Loss: 0.0178\n",
      "Epoch [25/100]\n",
      "Train Loss: 0.0020\n",
      "Test Loss: 0.0183\n",
      "Epoch [26/100]\n",
      "Train Loss: 0.0019\n",
      "Test Loss: 0.0208\n",
      "Epoch [27/100]\n",
      "Train Loss: 0.0020\n",
      "Test Loss: 0.0155\n",
      "Epoch [28/100]\n",
      "Train Loss: 0.0019\n",
      "Test Loss: 0.0148\n",
      "Epoch [29/100]\n",
      "Train Loss: 0.0019\n",
      "Test Loss: 0.0116\n",
      "Epoch [30/100]\n",
      "Train Loss: 0.0018\n",
      "Test Loss: 0.0158\n",
      "Epoch [31/100]\n",
      "Train Loss: 0.0018\n",
      "Test Loss: 0.0127\n",
      "Epoch [32/100]\n",
      "Train Loss: 0.0018\n",
      "Test Loss: 0.0124\n",
      "Epoch [33/100]\n",
      "Train Loss: 0.0018\n",
      "Test Loss: 0.0112\n",
      "Epoch [34/100]\n",
      "Train Loss: 0.0018\n",
      "Test Loss: 0.0072\n",
      "Epoch [35/100]\n",
      "Train Loss: 0.0018\n",
      "Test Loss: 0.0077\n",
      "Epoch [36/100]\n",
      "Train Loss: 0.0018\n",
      "Test Loss: 0.0101\n",
      "Epoch [37/100]\n",
      "Train Loss: 0.0017\n",
      "Test Loss: 0.0098\n",
      "Epoch [38/100]\n",
      "Train Loss: 0.0017\n",
      "Test Loss: 0.0063\n",
      "Epoch [39/100]\n",
      "Train Loss: 0.0017\n",
      "Test Loss: 0.0054\n",
      "Epoch [40/100]\n",
      "Train Loss: 0.0016\n",
      "Test Loss: 0.0070\n",
      "Epoch [41/100]\n",
      "Train Loss: 0.0016\n",
      "Test Loss: 0.0065\n",
      "Epoch [42/100]\n",
      "Train Loss: 0.0016\n",
      "Test Loss: 0.0070\n",
      "Epoch [43/100]\n",
      "Train Loss: 0.0016\n",
      "Test Loss: 0.0060\n",
      "Epoch [44/100]\n",
      "Train Loss: 0.0016\n",
      "Test Loss: 0.0051\n",
      "Epoch [45/100]\n",
      "Train Loss: 0.0016\n",
      "Test Loss: 0.0059\n",
      "Epoch [46/100]\n",
      "Train Loss: 0.0015\n",
      "Test Loss: 0.0051\n",
      "Epoch [47/100]\n",
      "Train Loss: 0.0016\n",
      "Test Loss: 0.0043\n",
      "Epoch [48/100]\n",
      "Train Loss: 0.0015\n",
      "Test Loss: 0.0051\n",
      "Epoch [49/100]\n",
      "Train Loss: 0.0015\n",
      "Test Loss: 0.0026\n",
      "Epoch [50/100]\n",
      "Train Loss: 0.0015\n",
      "Test Loss: 0.0035\n",
      "Epoch [51/100]\n",
      "Train Loss: 0.0015\n",
      "Test Loss: 0.0028\n",
      "Epoch [52/100]\n",
      "Train Loss: 0.0015\n",
      "Test Loss: 0.0026\n",
      "Epoch [53/100]\n",
      "Train Loss: 0.0014\n",
      "Test Loss: 0.0026\n",
      "Epoch [54/100]\n",
      "Train Loss: 0.0014\n",
      "Test Loss: 0.0028\n",
      "Epoch [55/100]\n",
      "Train Loss: 0.0014\n",
      "Test Loss: 0.0028\n",
      "Epoch [56/100]\n",
      "Train Loss: 0.0014\n",
      "Test Loss: 0.0023\n",
      "Epoch [57/100]\n",
      "Train Loss: 0.0014\n",
      "Test Loss: 0.0021\n",
      "Epoch [58/100]\n",
      "Train Loss: 0.0014\n",
      "Test Loss: 0.0021\n",
      "Epoch [59/100]\n",
      "Train Loss: 0.0014\n",
      "Test Loss: 0.0031\n",
      "Epoch [60/100]\n",
      "Train Loss: 0.0014\n",
      "Test Loss: 0.0024\n",
      "Epoch [61/100]\n",
      "Train Loss: 0.0013\n",
      "Test Loss: 0.0030\n",
      "Epoch [62/100]\n",
      "Train Loss: 0.0013\n",
      "Test Loss: 0.0020\n",
      "Epoch [63/100]\n",
      "Train Loss: 0.0013\n",
      "Test Loss: 0.0021\n",
      "Epoch [64/100]\n",
      "Train Loss: 0.0013\n",
      "Test Loss: 0.0020\n",
      "Epoch [65/100]\n",
      "Train Loss: 0.0013\n",
      "Test Loss: 0.0019\n",
      "Epoch [66/100]\n",
      "Train Loss: 0.0013\n",
      "Test Loss: 0.0020\n",
      "Epoch [67/100]\n",
      "Train Loss: 0.0013\n",
      "Test Loss: 0.0019\n",
      "Epoch [68/100]\n",
      "Train Loss: 0.0013\n",
      "Test Loss: 0.0021\n",
      "Epoch [69/100]\n",
      "Train Loss: 0.0012\n",
      "Test Loss: 0.0020\n",
      "Epoch [70/100]\n",
      "Train Loss: 0.0012\n",
      "Test Loss: 0.0019\n",
      "Epoch [71/100]\n",
      "Train Loss: 0.0012\n",
      "Test Loss: 0.0021\n",
      "Epoch [72/100]\n",
      "Train Loss: 0.0012\n",
      "Test Loss: 0.0019\n",
      "Epoch [73/100]\n",
      "Train Loss: 0.0012\n",
      "Test Loss: 0.0019\n",
      "Epoch [74/100]\n",
      "Train Loss: 0.0012\n",
      "Test Loss: 0.0021\n",
      "Epoch [75/100]\n",
      "Train Loss: 0.0012\n",
      "Test Loss: 0.0025\n",
      "Epoch [76/100]\n",
      "Train Loss: 0.0012\n",
      "Test Loss: 0.0023\n",
      "Epoch [77/100]\n",
      "Train Loss: 0.0012\n",
      "Test Loss: 0.0019\n",
      "Epoch [78/100]\n",
      "Train Loss: 0.0011\n",
      "Test Loss: 0.0019\n",
      "Epoch [79/100]\n",
      "Train Loss: 0.0012\n",
      "Test Loss: 0.0018\n",
      "Epoch [80/100]\n",
      "Train Loss: 0.0012\n",
      "Test Loss: 0.0018\n",
      "Epoch [81/100]\n",
      "Train Loss: 0.0012\n",
      "Test Loss: 0.0019\n",
      "Epoch [82/100]\n",
      "Train Loss: 0.0012\n",
      "Test Loss: 0.0021\n",
      "Epoch [83/100]\n",
      "Train Loss: 0.0012\n",
      "Test Loss: 0.0019\n",
      "Epoch [84/100]\n",
      "Train Loss: 0.0011\n",
      "Test Loss: 0.0021\n",
      "Epoch [85/100]\n",
      "Train Loss: 0.0012\n",
      "Test Loss: 0.0020\n",
      "Epoch [86/100]\n",
      "Train Loss: 0.0011\n",
      "Test Loss: 0.0018\n",
      "Epoch [87/100]\n",
      "Train Loss: 0.0011\n",
      "Test Loss: 0.0021\n",
      "Epoch [88/100]\n",
      "Train Loss: 0.0011\n",
      "Test Loss: 0.0018\n",
      "Epoch [89/100]\n",
      "Train Loss: 0.0011\n",
      "Test Loss: 0.0019\n",
      "Epoch [90/100]\n",
      "Train Loss: 0.0011\n",
      "Test Loss: 0.0019\n",
      "Epoch [91/100]\n",
      "Train Loss: 0.0011\n",
      "Test Loss: 0.0021\n",
      "Epoch [92/100]\n",
      "Train Loss: 0.0011\n",
      "Test Loss: 0.0018\n",
      "Epoch [93/100]\n",
      "Train Loss: 0.0011\n",
      "Test Loss: 0.0019\n",
      "Epoch [94/100]\n",
      "Train Loss: 0.0011\n",
      "Test Loss: 0.0021\n",
      "Epoch [95/100]\n",
      "Train Loss: 0.0011\n",
      "Test Loss: 0.0018\n",
      "Epoch [96/100]\n",
      "Train Loss: 0.0011\n",
      "Test Loss: 0.0019\n",
      "Epoch [97/100]\n",
      "Train Loss: 0.0011\n",
      "Test Loss: 0.0018\n",
      "Epoch [98/100]\n",
      "Train Loss: 0.0011\n",
      "Test Loss: 0.0018\n",
      "Epoch [99/100]\n",
      "Train Loss: 0.0011\n",
      "Test Loss: 0.0018\n",
      "Epoch [100/100]\n",
      "Train Loss: 0.0011\n",
      "Test Loss: 0.0022\n"
     ]
    }
   ],
   "source": [
    "# Train the model\n",
    "train_losses, test_losses = train_model(\n",
    "    model=model,\n",
    "    train_loader=train_loader,\n",
    "    test_loader=test_loader,\n",
    "    criterion=criterion,\n",
    "    optimizer=optimizer,\n",
    "    num_epochs=100\n",
    ")"
   ]
  },
  {
   "cell_type": "code",
   "execution_count": 40,
   "id": "0f585530",
   "metadata": {
    "execution": {
     "iopub.execute_input": "2024-11-18T09:22:47.799753Z",
     "iopub.status.busy": "2024-11-18T09:22:47.799438Z",
     "iopub.status.idle": "2024-11-18T09:22:47.806312Z",
     "shell.execute_reply": "2024-11-18T09:22:47.805437Z"
    },
    "papermill": {
     "duration": 0.032125,
     "end_time": "2024-11-18T09:22:47.808151",
     "exception": false,
     "start_time": "2024-11-18T09:22:47.776026",
     "status": "completed"
    },
    "tags": []
   },
   "outputs": [],
   "source": [
    "import matplotlib.pyplot as plt\n",
    "\n",
    "def plot_losses(train_losses, test_losses):\n",
    "    plt.figure(figsize=(6, 4))\n",
    "    plt.plot(range(1, len(train_losses) + 1), train_losses, label='Training Loss', color='blue')\n",
    "    plt.plot(range(1, len(test_losses) + 1), test_losses, label='Testing Loss', color='red')\n",
    "    \n",
    "    # Gắn nhãn và tiêu đề\n",
    "    plt.xlabel('Epoch')\n",
    "    plt.ylabel('Loss')\n",
    "    plt.title('Training and Testing Loss Over Time')\n",
    "    plt.legend()\n",
    "    \n",
    "    # Chỉnh giới hạn trục y để tập trung vào giá trị gần 0\n",
    "    plt.ylim(0, 0.1)  # Giới hạn từ 0 đến 0.1 (tuỳ chỉnh tuỳ vào dữ liệu của bạn)\n",
    "\n",
    "    # Hiển thị lưới\n",
    "    plt.grid(True, linestyle='--', linewidth=0.5)\n",
    "    plt.show()\n"
   ]
  },
  {
   "cell_type": "code",
   "execution_count": 41,
   "id": "f08c7ea8",
   "metadata": {
    "execution": {
     "iopub.execute_input": "2024-11-18T09:22:47.854777Z",
     "iopub.status.busy": "2024-11-18T09:22:47.854473Z",
     "iopub.status.idle": "2024-11-18T09:22:48.135309Z",
     "shell.execute_reply": "2024-11-18T09:22:48.134361Z"
    },
    "papermill": {
     "duration": 0.306529,
     "end_time": "2024-11-18T09:22:48.137480",
     "exception": false,
     "start_time": "2024-11-18T09:22:47.830951",
     "status": "completed"
    },
    "tags": []
   },
   "outputs": [
    {
     "data": {
      "image/png": "[encoded data removed]",
      "text/plain": [
       "<Figure size 600x400 with 1 Axes>"
      ]
     },
     "metadata": {},
     "output_type": "display_data"
    }
   ],
   "source": [
    "plot_losses(train_losses, test_losses)"
   ]
  },
  {
   "cell_type": "markdown",
   "id": "aeebfada",
   "metadata": {
    "papermill": {
     "duration": 0.023736,
     "end_time": "2024-11-18T09:22:48.185117",
     "exception": false,
     "start_time": "2024-11-18T09:22:48.161381",
     "status": "completed"
    },
    "tags": []
   },
   "source": [
    "## Predict and Compare on Test set"
   ]
  },
  {
   "cell_type": "code",
   "execution_count": 42,
   "id": "6f8b1d1f",
   "metadata": {
    "execution": {
     "iopub.execute_input": "2024-11-18T09:22:48.233401Z",
     "iopub.status.busy": "2024-11-18T09:22:48.233052Z",
     "iopub.status.idle": "2024-11-18T09:22:48.242732Z",
     "shell.execute_reply": "2024-11-18T09:22:48.242014Z"
    },
    "papermill": {
     "duration": 0.035741,
     "end_time": "2024-11-18T09:22:48.244690",
     "exception": false,
     "start_time": "2024-11-18T09:22:48.208949",
     "status": "completed"
    },
    "tags": []
   },
   "outputs": [],
   "source": [
    "def predict_model(model, test_loader):\n",
    "    model.eval()\n",
    "    y_pred = []\n",
    "    y_true = []\n",
    "    \n",
    "    with torch.no_grad():\n",
    "        for X, y in test_loader:\n",
    "            X = X.to(model.fc.weight.device)\n",
    "            y = y.to(model.fc.weight.device)\n",
    "            \n",
    "            outputs = model(X)\n",
    "            \n",
    "            y_pred.extend(outputs.cpu().numpy().flatten())\n",
    "            y_true.extend(y.cpu().numpy().flatten())\n",
    "    \n",
    "    return np.array(y_true), np.array(y_pred)\n",
    "\n",
    "y_true, y_pred = predict_model(model, test_loader)\n",
    "\n"
   ]
  },
  {
   "cell_type": "markdown",
   "id": "86dd182c",
   "metadata": {
    "papermill": {
     "duration": 0.023003,
     "end_time": "2024-11-18T09:22:48.290916",
     "exception": false,
     "start_time": "2024-11-18T09:22:48.267913",
     "status": "completed"
    },
    "tags": []
   },
   "source": [
    "### Important: Inverse the values back to original"
   ]
  },
  {
   "cell_type": "code",
   "execution_count": 43,
   "id": "50fdda5b",
   "metadata": {
    "execution": {
     "iopub.execute_input": "2024-11-18T09:22:48.338591Z",
     "iopub.status.busy": "2024-11-18T09:22:48.338226Z",
     "iopub.status.idle": "2024-11-18T09:22:48.638883Z",
     "shell.execute_reply": "2024-11-18T09:22:48.637975Z"
    },
    "papermill": {
     "duration": 0.326942,
     "end_time": "2024-11-18T09:22:48.640875",
     "exception": false,
     "start_time": "2024-11-18T09:22:48.313933",
     "status": "completed"
    },
    "tags": []
   },
   "outputs": [
    {
     "name": "stdout",
     "output_type": "stream",
     "text": [
      "MSE: 6.4219\n",
      "MAE: 1.8496\n",
      "RMSE: 2.5342\n"
     ]
    },
    {
     "data": {
      "image/png": "[encoded data removed]",
      "text/plain": [
       "<Figure size 600x400 with 1 Axes>"
      ]
     },
     "metadata": {},
     "output_type": "display_data"
    }
   ],
   "source": [
    "import numpy as np\n",
    "\n",
    "num_features = close_train_np.shape[1]  \n",
    "\n",
    "y_true_padded = np.zeros((len(y_true), num_features)) \n",
    "y_true_padded[:, 0] = y_true \n",
    "\n",
    "y_pred_padded = np.zeros((len(y_pred), num_features)) \n",
    "y_pred_padded[:, 0] = y_pred\n",
    "\n",
    "y_true_original = scaler.inverse_transform(y_true_padded)[:, 0]  \n",
    "y_pred_original = scaler.inverse_transform(y_pred_padded)[:, 0]\n",
    "\n",
    "\n",
    "# Chart and calculate some metrics \n",
    "from sklearn.metrics import mean_squared_error, mean_absolute_error\n",
    "import matplotlib.pyplot as plt\n",
    "\n",
    "mse = mean_squared_error(y_true_original, y_pred_original)\n",
    "mae = mean_absolute_error(y_true_original, y_pred_original)\n",
    "\n",
    "print(f'MSE: {mse:.4f}')\n",
    "print(f'MAE: {mae:.4f}')\n",
    "print(f'RMSE: {np.sqrt(mse):.4f}')\n",
    "\n",
    "plt.figure(figsize=(6, 4))\n",
    "plt.plot(y_true_original, label='Actual', color='blue')\n",
    "plt.plot(y_pred_original, label='Predicted', color='red', linestyle='--')\n",
    "plt.xlabel('Time Steps')\n",
    "plt.ylabel('Close Price')\n",
    "plt.title('Actual vs Predict on Test set')\n",
    "plt.legend()\n",
    "plt.grid(True)\n",
    "plt.show()"
   ]
  }
 ],
 "metadata": {
  "kaggle": {
   "accelerator": "gpu",
   "dataSources": [
    {
     "datasetId": 6057328,
     "sourceId": 9868205,
     "sourceType": "datasetVersion"
    }
   ],
   "dockerImageVersionId": 30786,
   "isGpuEnabled": true,
   "isInternetEnabled": true,
   "language": "python",
   "sourceType": "notebook"
  },
  "kernelspec": {
   "display_name": "Python 3",
   "language": "python",
   "name": "python3"
  },
  "language_info": {
   "codemirror_mode": {
    "name": "ipython",
    "version": 3
   },
   "file_extension": ".py",
   "mimetype": "text/x-python",
   "name": "python",
   "nbconvert_exporter": "python",
   "pygments_lexer": "ipython3",
   "version": "3.10.14"
  },
  "papermill": {
   "default_parameters": {},
   "duration": 71.128511,
   "end_time": "2024-11-18T09:22:50.188942",
   "environment_variables": {},
   "exception": null,
   "input_path": "__notebook__.ipynb",
   "output_path": "__notebook__.ipynb",
   "parameters": {},
   "start_time": "2024-11-18T09:21:39.060431",
   "version": "2.6.0"
  }
 },
 "nbformat": 4,
 "nbformat_minor": 5
}
