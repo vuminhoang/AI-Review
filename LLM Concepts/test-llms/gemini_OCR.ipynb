{
  "nbformat": 4,
  "nbformat_minor": 0,
  "metadata": {
    "colab": {
      "provenance": []
    },
    "kernelspec": {
      "name": "python3",
      "display_name": "Python 3"
    },
    "language_info": {
      "name": "python"
    }
  },
  "cells": [
    {
      "cell_type": "code",
      "execution_count": 19,
      "metadata": {
        "colab": {
          "base_uri": "https://localhost:8080/"
        },
        "id": "GGcICU89hLNg",
        "outputId": "2d85dce2-640c-4cc5-d1b8-74553525305d"
      },
      "outputs": [
        {
          "output_type": "stream",
          "name": "stdout",
          "text": [
            "W: Skipping acquire of configured file 'main/source/Sources' as repository 'https://r2u.stat.illinois.edu/ubuntu jammy InRelease' does not seem to provide it (sources.list entry misspelt?)\n"
          ]
        }
      ],
      "source": [
        "# Cài đặt Poppler và các thư viện cần thiết\n",
        "!apt-get update -qq\n",
        "!apt-get install -qq -y poppler-utils          # poppler-utils để pdf2image hoạt động\n",
        "!pip install --quiet pdf2image google-generativeai python-docx\n",
        "!pip install pypdf\n",
        "!pip install pymupdf\n"
      ]
    },
    {
      "cell_type": "code",
      "source": [
        "from google.colab import userdata"
      ],
      "metadata": {
        "id": "YFwtL3nWk5ju"
      },
      "execution_count": 21,
      "outputs": []
    },
    {
      "cell_type": "code",
      "source": [
        "import os\n",
        "from pdf2image import convert_from_path\n",
        "from io import BytesIO\n",
        "from PIL import Image\n",
        "from docx import Document\n",
        "import google.generativeai as genai\n",
        "\n",
        "# Bước này giả sử bạn đã có API Key của Gemini 1.5 Pro gán vào biến môi trường.\n",
        "# Ví dụ: bạn có thể gán trực tiếp như dưới (hoặc set môi trường trên giao diện Colab).\n",
        "# os.environ[\"GENAI_API_KEY\"] = \"PUT_YOUR_API_KEY_HERE\"\n",
        "\n",
        "# Lấy API Key từ biến môi trường (hoặc gán trực tiếp nếu muốn)\n",
        "GEMINI_API_KEY = userdata.get('gemini-2')\n",
        "\n",
        "# Cấu hình cho SDK của Gemini\n",
        "genai.configure(api_key=GEMINI_API_KEY)\n",
        "# Khởi tạo model Gemini 1.5 Pro\n",
        "model = genai.GenerativeModel(model_name=\"gemini-2.0-flash\")\n"
      ],
      "metadata": {
        "id": "R4BSnU33iqQe"
      },
      "execution_count": 29,
      "outputs": []
    },
    {
      "cell_type": "code",
      "source": [
        "import fitz  # PyMuPDF\n",
        "from PIL import Image\n",
        "from io import BytesIO\n",
        "import google.generativeai as genai\n",
        "from docx import Document\n",
        "\n",
        "# Cấu hình\n",
        "GEMINI_API_KEY = userdata.get('gemini-2')\n",
        "PDF_FILE = \"/content/your_pdf_here.pdf\"\n",
        "OUTPUT_FILE = \"extracted_text.docx\"\n",
        "\n",
        "# Setup Gemini\n",
        "genai.configure(api_key=GEMINI_API_KEY)\n",
        "model = genai.GenerativeModel(\"gemini-2.0-flash\")\n",
        "\n",
        "# Xử lý PDF\n",
        "doc = fitz.open(PDF_FILE)\n",
        "output_doc = Document()\n",
        "\n",
        "print(f\"Đang xử lý {len(doc)} trang...\")\n",
        "\n",
        "for page_num in range(len(doc)):\n",
        "    page = doc[page_num]\n",
        "\n",
        "    # Convert trang thành ảnh\n",
        "    pix = page.get_pixmap(dpi=300)\n",
        "    img_bytes = BytesIO(pix.tobytes(\"png\"))\n",
        "    image = Image.open(img_bytes)\n",
        "\n",
        "    prompt_message = (\n",
        "    \"Extract all visible text from the image and return it in Markdown format. \"\n",
        "    \"Ensure that the extracted content is accurately represented without additional descriptions, comments, or formatting. \"\n",
        "    \"Do not invent any text or symbols; only return the content that is visibly present in the image.\"\n",
        "    \"No need to add page number infomation, often appear at the bottom\"\n",
        "  )\n",
        "\n",
        "    # OCR với Gemini\n",
        "    response = model.generate_content([\n",
        "    prompt_message,\n",
        "    image\n",
        "    ])\n",
        "\n",
        "    # Lưu kết quả\n",
        "    if response.text:\n",
        "        output_doc.add_heading(f\"Trang {page_num + 1}\", level=2)\n",
        "        output_doc.add_paragraph(response.text.strip())\n",
        "\n",
        "    print(f\"✓ {page_num + 1}/{len(doc)}\")\n",
        "\n",
        "# Lưu file\n",
        "doc.close()\n",
        "output_doc.save(OUTPUT_FILE)\n",
        "print(f\"Hoàn thành: {OUTPUT_FILE}\")"
      ],
      "metadata": {
        "colab": {
          "base_uri": "https://localhost:8080/",
          "height": 156
        },
        "id": "AtMgnUQcmsSk",
        "outputId": "45a2ba95-33a0-475f-87a1-113bfd5201c1"
      },
      "execution_count": 30,
      "outputs": [
        {
          "output_type": "stream",
          "name": "stdout",
          "text": [
            "Đang xử lý 6 trang...\n",
            "✓ 1/6\n",
            "✓ 2/6\n",
            "✓ 3/6\n",
            "✓ 4/6\n",
            "✓ 5/6\n",
            "✓ 6/6\n",
            "Hoàn thành: extracted_text.docx\n"
          ]
        }
      ]
    },
    {
      "cell_type": "code",
      "source": [],
      "metadata": {
        "id": "gHxFLTHYkpzf"
      },
      "execution_count": null,
      "outputs": []
    }
  ]
}